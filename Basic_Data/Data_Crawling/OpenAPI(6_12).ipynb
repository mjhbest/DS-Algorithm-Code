{
  "nbformat": 4,
  "nbformat_minor": 0,
  "metadata": {
    "colab": {
      "provenance": []
    },
    "kernelspec": {
      "name": "python3",
      "display_name": "Python 3"
    },
    "language_info": {
      "name": "python"
    }
  },
  "cells": [
    {
      "cell_type": "markdown",
      "source": [
        "## 기상청 날씨예보 API"
      ],
      "metadata": {
        "id": "_FwE4uaKJ-Xx"
      }
    },
    {
      "cell_type": "code",
      "source": [
        "import requests\n",
        "from bs4 import BeautifulSoup"
      ],
      "metadata": {
        "id": "PCwTP4qwIYbA"
      },
      "execution_count": 2,
      "outputs": []
    },
    {
      "cell_type": "code",
      "source": [
        "# Python3 샘플 코드 #\n",
        "import requests\n",
        "\n",
        "url = 'http://apis.data.go.kr/1360000/VilageFcstInfoService_2.0/getFcstVersion?serviceKey=MIe3DGXhgZez8IKsUCzyozfnp9dI8s5CTUpKRvta07JqEs7uLA3tA58Io9TqmV0z8uF1g9rgeWsTDiuSqJs3MA==&numOfRows=10&pageNo=1&ftype=ODAM&basedatetime=202306120800'\n",
        "\n",
        "response = requests.get(url)\n",
        "print(response.content)\n",
        "\n",
        "bsObject = BeautifulSoup(response.content, \"html.parser\")"
      ],
      "metadata": {
        "id": "juOdvK5ZcrVb"
      },
      "execution_count": null,
      "outputs": []
    },
    {
      "cell_type": "code",
      "source": [
        "# Python3 샘플 코드 #\n",
        "\n",
        "url = 'http://apis.data.go.kr/1360000/VilageFcstInfoService_2.0/getUltraSrtFcst'\n",
        "params ={'serviceKey' : 'MIe3DGXhgZez8IKsUCzyozfnp9dI8s5CTUpKRvta07JqEs7uLA3tA58Io9TqmV0z8uF1g9rgeWsTDiuSqJs3MA==', \n",
        "         'pageNo' : '1', 'numOfRows' : '1000', 'dataType' : 'XML', 'base_date' : '20230612', 'base_time' : '0600', 'nx' : '37', 'ny' : '127' }\n",
        "\n",
        "response = requests.get(url, params=params)\n",
        "print(response.content)\n",
        "\n",
        "bsObject = BeautifulSoup(response.content, \"html.parser\")"
      ],
      "metadata": {
        "colab": {
          "base_uri": "https://localhost:8080/"
        },
        "id": "_gwgGXgJY-fM",
        "outputId": "aaf7f6e1-06e7-44d6-dda2-20134b388452"
      },
      "execution_count": 14,
      "outputs": [
        {
          "output_type": "stream",
          "name": "stdout",
          "text": [
            "b'<?xml version=\"1.0\" encoding=\"UTF-8\"?>\\r\\n<response><header><resultCode>00</resultCode><resultMsg>NORMAL_SERVICE</resultMsg></header><body><dataType>XML</dataType><items><item><baseDate>20230612</baseDate><baseTime>0630</baseTime><category>LGT</category><fcstDate>20230612</fcstDate><fcstTime>0700</fcstTime><fcstValue>0</fcstValue><nx>37</nx><ny>127</ny></item><item><baseDate>20230612</baseDate><baseTime>0630</baseTime><category>LGT</category><fcstDate>20230612</fcstDate><fcstTime>0800</fcstTime><fcstValue>0</fcstValue><nx>37</nx><ny>127</ny></item><item><baseDate>20230612</baseDate><baseTime>0630</baseTime><category>LGT</category><fcstDate>20230612</fcstDate><fcstTime>0900</fcstTime><fcstValue>0</fcstValue><nx>37</nx><ny>127</ny></item><item><baseDate>20230612</baseDate><baseTime>0630</baseTime><category>LGT</category><fcstDate>20230612</fcstDate><fcstTime>1000</fcstTime><fcstValue>0</fcstValue><nx>37</nx><ny>127</ny></item><item><baseDate>20230612</baseDate><baseTime>0630</baseTime><category>LGT</category><fcstDate>20230612</fcstDate><fcstTime>1100</fcstTime><fcstValue>0</fcstValue><nx>37</nx><ny>127</ny></item><item><baseDate>20230612</baseDate><baseTime>0630</baseTime><category>LGT</category><fcstDate>20230612</fcstDate><fcstTime>1200</fcstTime><fcstValue>0</fcstValue><nx>37</nx><ny>127</ny></item><item><baseDate>20230612</baseDate><baseTime>0630</baseTime><category>PTY</category><fcstDate>20230612</fcstDate><fcstTime>0700</fcstTime><fcstValue>0</fcstValue><nx>37</nx><ny>127</ny></item><item><baseDate>20230612</baseDate><baseTime>0630</baseTime><category>PTY</category><fcstDate>20230612</fcstDate><fcstTime>0800</fcstTime><fcstValue>0</fcstValue><nx>37</nx><ny>127</ny></item><item><baseDate>20230612</baseDate><baseTime>0630</baseTime><category>PTY</category><fcstDate>20230612</fcstDate><fcstTime>0900</fcstTime><fcstValue>0</fcstValue><nx>37</nx><ny>127</ny></item><item><baseDate>20230612</baseDate><baseTime>0630</baseTime><category>PTY</category><fcstDate>20230612</fcstDate><fcstTime>1000</fcstTime><fcstValue>0</fcstValue><nx>37</nx><ny>127</ny></item><item><baseDate>20230612</baseDate><baseTime>0630</baseTime><category>PTY</category><fcstDate>20230612</fcstDate><fcstTime>1100</fcstTime><fcstValue>0</fcstValue><nx>37</nx><ny>127</ny></item><item><baseDate>20230612</baseDate><baseTime>0630</baseTime><category>PTY</category><fcstDate>20230612</fcstDate><fcstTime>1200</fcstTime><fcstValue>0</fcstValue><nx>37</nx><ny>127</ny></item><item><baseDate>20230612</baseDate><baseTime>0630</baseTime><category>RN1</category><fcstDate>20230612</fcstDate><fcstTime>0700</fcstTime><fcstValue>\\xea\\xb0\\x95\\xec\\x88\\x98\\xec\\x97\\x86\\xec\\x9d\\x8c</fcstValue><nx>37</nx><ny>127</ny></item><item><baseDate>20230612</baseDate><baseTime>0630</baseTime><category>RN1</category><fcstDate>20230612</fcstDate><fcstTime>0800</fcstTime><fcstValue>\\xea\\xb0\\x95\\xec\\x88\\x98\\xec\\x97\\x86\\xec\\x9d\\x8c</fcstValue><nx>37</nx><ny>127</ny></item><item><baseDate>20230612</baseDate><baseTime>0630</baseTime><category>RN1</category><fcstDate>20230612</fcstDate><fcstTime>0900</fcstTime><fcstValue>\\xea\\xb0\\x95\\xec\\x88\\x98\\xec\\x97\\x86\\xec\\x9d\\x8c</fcstValue><nx>37</nx><ny>127</ny></item><item><baseDate>20230612</baseDate><baseTime>0630</baseTime><category>RN1</category><fcstDate>20230612</fcstDate><fcstTime>1000</fcstTime><fcstValue>\\xea\\xb0\\x95\\xec\\x88\\x98\\xec\\x97\\x86\\xec\\x9d\\x8c</fcstValue><nx>37</nx><ny>127</ny></item><item><baseDate>20230612</baseDate><baseTime>0630</baseTime><category>RN1</category><fcstDate>20230612</fcstDate><fcstTime>1100</fcstTime><fcstValue>\\xea\\xb0\\x95\\xec\\x88\\x98\\xec\\x97\\x86\\xec\\x9d\\x8c</fcstValue><nx>37</nx><ny>127</ny></item><item><baseDate>20230612</baseDate><baseTime>0630</baseTime><category>RN1</category><fcstDate>20230612</fcstDate><fcstTime>1200</fcstTime><fcstValue>\\xea\\xb0\\x95\\xec\\x88\\x98\\xec\\x97\\x86\\xec\\x9d\\x8c</fcstValue><nx>37</nx><ny>127</ny></item><item><baseDate>20230612</baseDate><baseTime>0630</baseTime><category>SKY</category><fcstDate>20230612</fcstDate><fcstTime>0700</fcstTime><fcstValue>3</fcstValue><nx>37</nx><ny>127</ny></item><item><baseDate>20230612</baseDate><baseTime>0630</baseTime><category>SKY</category><fcstDate>20230612</fcstDate><fcstTime>0800</fcstTime><fcstValue>4</fcstValue><nx>37</nx><ny>127</ny></item><item><baseDate>20230612</baseDate><baseTime>0630</baseTime><category>SKY</category><fcstDate>20230612</fcstDate><fcstTime>0900</fcstTime><fcstValue>4</fcstValue><nx>37</nx><ny>127</ny></item><item><baseDate>20230612</baseDate><baseTime>0630</baseTime><category>SKY</category><fcstDate>20230612</fcstDate><fcstTime>1000</fcstTime><fcstValue>4</fcstValue><nx>37</nx><ny>127</ny></item><item><baseDate>20230612</baseDate><baseTime>0630</baseTime><category>SKY</category><fcstDate>20230612</fcstDate><fcstTime>1100</fcstTime><fcstValue>4</fcstValue><nx>37</nx><ny>127</ny></item><item><baseDate>20230612</baseDate><baseTime>0630</baseTime><category>SKY</category><fcstDate>20230612</fcstDate><fcstTime>1200</fcstTime><fcstValue>4</fcstValue><nx>37</nx><ny>127</ny></item><item><baseDate>20230612</baseDate><baseTime>0630</baseTime><category>T1H</category><fcstDate>20230612</fcstDate><fcstTime>0700</fcstTime><fcstValue>18</fcstValue><nx>37</nx><ny>127</ny></item><item><baseDate>20230612</baseDate><baseTime>0630</baseTime><category>T1H</category><fcstDate>20230612</fcstDate><fcstTime>0800</fcstTime><fcstValue>18</fcstValue><nx>37</nx><ny>127</ny></item><item><baseDate>20230612</baseDate><baseTime>0630</baseTime><category>T1H</category><fcstDate>20230612</fcstDate><fcstTime>0900</fcstTime><fcstValue>19</fcstValue><nx>37</nx><ny>127</ny></item><item><baseDate>20230612</baseDate><baseTime>0630</baseTime><category>T1H</category><fcstDate>20230612</fcstDate><fcstTime>1000</fcstTime><fcstValue>19</fcstValue><nx>37</nx><ny>127</ny></item><item><baseDate>20230612</baseDate><baseTime>0630</baseTime><category>T1H</category><fcstDate>20230612</fcstDate><fcstTime>1100</fcstTime><fcstValue>19</fcstValue><nx>37</nx><ny>127</ny></item><item><baseDate>20230612</baseDate><baseTime>0630</baseTime><category>T1H</category><fcstDate>20230612</fcstDate><fcstTime>1200</fcstTime><fcstValue>19</fcstValue><nx>37</nx><ny>127</ny></item><item><baseDate>20230612</baseDate><baseTime>0630</baseTime><category>REH</category><fcstDate>20230612</fcstDate><fcstTime>0700</fcstTime><fcstValue>90</fcstValue><nx>37</nx><ny>127</ny></item><item><baseDate>20230612</baseDate><baseTime>0630</baseTime><category>REH</category><fcstDate>20230612</fcstDate><fcstTime>0800</fcstTime><fcstValue>90</fcstValue><nx>37</nx><ny>127</ny></item><item><baseDate>20230612</baseDate><baseTime>0630</baseTime><category>REH</category><fcstDate>20230612</fcstDate><fcstTime>0900</fcstTime><fcstValue>85</fcstValue><nx>37</nx><ny>127</ny></item><item><baseDate>20230612</baseDate><baseTime>0630</baseTime><category>REH</category><fcstDate>20230612</fcstDate><fcstTime>1000</fcstTime><fcstValue>85</fcstValue><nx>37</nx><ny>127</ny></item><item><baseDate>20230612</baseDate><baseTime>0630</baseTime><category>REH</category><fcstDate>20230612</fcstDate><fcstTime>1100</fcstTime><fcstValue>85</fcstValue><nx>37</nx><ny>127</ny></item><item><baseDate>20230612</baseDate><baseTime>0630</baseTime><category>REH</category><fcstDate>20230612</fcstDate><fcstTime>1200</fcstTime><fcstValue>85</fcstValue><nx>37</nx><ny>127</ny></item><item><baseDate>20230612</baseDate><baseTime>0630</baseTime><category>UUU</category><fcstDate>20230612</fcstDate><fcstTime>0700</fcstTime><fcstValue>1.8</fcstValue><nx>37</nx><ny>127</ny></item><item><baseDate>20230612</baseDate><baseTime>0630</baseTime><category>UUU</category><fcstDate>20230612</fcstDate><fcstTime>0800</fcstTime><fcstValue>0.4</fcstValue><nx>37</nx><ny>127</ny></item><item><baseDate>20230612</baseDate><baseTime>0630</baseTime><category>UUU</category><fcstDate>20230612</fcstDate><fcstTime>0900</fcstTime><fcstValue>-0.1</fcstValue><nx>37</nx><ny>127</ny></item><item><baseDate>20230612</baseDate><baseTime>0630</baseTime><category>UUU</category><fcstDate>20230612</fcstDate><fcstTime>1000</fcstTime><fcstValue>-0.1</fcstValue><nx>37</nx><ny>127</ny></item><item><baseDate>20230612</baseDate><baseTime>0630</baseTime><category>UUU</category><fcstDate>20230612</fcstDate><fcstTime>1100</fcstTime><fcstValue>1.1</fcstValue><nx>37</nx><ny>127</ny></item><item><baseDate>20230612</baseDate><baseTime>0630</baseTime><category>UUU</category><fcstDate>20230612</fcstDate><fcstTime>1200</fcstTime><fcstValue>2.9</fcstValue><nx>37</nx><ny>127</ny></item><item><baseDate>20230612</baseDate><baseTime>0630</baseTime><category>VVV</category><fcstDate>20230612</fcstDate><fcstTime>0700</fcstTime><fcstValue>-2.2</fcstValue><nx>37</nx><ny>127</ny></item><item><baseDate>20230612</baseDate><baseTime>0630</baseTime><category>VVV</category><fcstDate>20230612</fcstDate><fcstTime>0800</fcstTime><fcstValue>-1.4</fcstValue><nx>37</nx><ny>127</ny></item><item><baseDate>20230612</baseDate><baseTime>0630</baseTime><category>VVV</category><fcstDate>20230612</fcstDate><fcstTime>0900</fcstTime><fcstValue>0</fcstValue><nx>37</nx><ny>127</ny></item><item><baseDate>20230612</baseDate><baseTime>0630</baseTime><category>VVV</category><fcstDate>20230612</fcstDate><fcstTime>1000</fcstTime><fcstValue>1.5</fcstValue><nx>37</nx><ny>127</ny></item><item><baseDate>20230612</baseDate><baseTime>0630</baseTime><category>VVV</category><fcstDate>20230612</fcstDate><fcstTime>1100</fcstTime><fcstValue>2.3</fcstValue><nx>37</nx><ny>127</ny></item><item><baseDate>20230612</baseDate><baseTime>0630</baseTime><category>VVV</category><fcstDate>20230612</fcstDate><fcstTime>1200</fcstTime><fcstValue>2.9</fcstValue><nx>37</nx><ny>127</ny></item><item><baseDate>20230612</baseDate><baseTime>0630</baseTime><category>VEC</category><fcstDate>20230612</fcstDate><fcstTime>0700</fcstTime><fcstValue>322</fcstValue><nx>37</nx><ny>127</ny></item><item><baseDate>20230612</baseDate><baseTime>0630</baseTime><category>VEC</category><fcstDate>20230612</fcstDate><fcstTime>0800</fcstTime><fcstValue>345</fcstValue><nx>37</nx><ny>127</ny></item><item><baseDate>20230612</baseDate><baseTime>0630</baseTime><category>VEC</category><fcstDate>20230612</fcstDate><fcstTime>0900</fcstTime><fcstValue>63</fcstValue><nx>37</nx><ny>127</ny></item><item><baseDate>20230612</baseDate><baseTime>0630</baseTime><category>VEC</category><fcstDate>20230612</fcstDate><fcstTime>1000</fcstTime><fcstValue>172</fcstValue><nx>37</nx><ny>127</ny></item><item><baseDate>20230612</baseDate><baseTime>0630</baseTime><category>VEC</category><fcstDate>20230612</fcstDate><fcstTime>1100</fcstTime><fcstValue>206</fcstValue><nx>37</nx><ny>127</ny></item><item><baseDate>20230612</baseDate><baseTime>0630</baseTime><category>VEC</category><fcstDate>20230612</fcstDate><fcstTime>1200</fcstTime><fcstValue>225</fcstValue><nx>37</nx><ny>127</ny></item><item><baseDate>20230612</baseDate><baseTime>0630</baseTime><category>WSD</category><fcstDate>20230612</fcstDate><fcstTime>0700</fcstTime><fcstValue>3</fcstValue><nx>37</nx><ny>127</ny></item><item><baseDate>20230612</baseDate><baseTime>0630</baseTime><category>WSD</category><fcstDate>20230612</fcstDate><fcstTime>0800</fcstTime><fcstValue>2</fcstValue><nx>37</nx><ny>127</ny></item><item><baseDate>20230612</baseDate><baseTime>0630</baseTime><category>WSD</category><fcstDate>20230612</fcstDate><fcstTime>0900</fcstTime><fcstValue>0</fcstValue><nx>37</nx><ny>127</ny></item><item><baseDate>20230612</baseDate><baseTime>0630</baseTime><category>WSD</category><fcstDate>20230612</fcstDate><fcstTime>1000</fcstTime><fcstValue>2</fcstValue><nx>37</nx><ny>127</ny></item><item><baseDate>20230612</baseDate><baseTime>0630</baseTime><category>WSD</category><fcstDate>20230612</fcstDate><fcstTime>1100</fcstTime><fcstValue>3</fcstValue><nx>37</nx><ny>127</ny></item><item><baseDate>20230612</baseDate><baseTime>0630</baseTime><category>WSD</category><fcstDate>20230612</fcstDate><fcstTime>1200</fcstTime><fcstValue>4</fcstValue><nx>37</nx><ny>127</ny></item></items><numOfRows>1000</numOfRows><pageNo>1</pageNo><totalCount>60</totalCount></body></response>\\r\\n'\n"
          ]
        },
        {
          "output_type": "stream",
          "name": "stderr",
          "text": [
            "/usr/local/lib/python3.10/dist-packages/bs4/builder/__init__.py:545: XMLParsedAsHTMLWarning: It looks like you're parsing an XML document using an HTML parser. If this really is an HTML document (maybe it's XHTML?), you can ignore or filter this warning. If it's XML, you should know that using an XML parser will be more reliable. To parse this document as XML, make sure you have the lxml package installed, and pass the keyword argument `features=\"xml\"` into the BeautifulSoup constructor.\n",
            "  warnings.warn(\n"
          ]
        }
      ]
    },
    {
      "cell_type": "code",
      "source": [],
      "metadata": {
        "id": "-ijWjPssN7Q5"
      },
      "execution_count": null,
      "outputs": []
    },
    {
      "cell_type": "markdown",
      "source": [
        "## 관광자원 API"
      ],
      "metadata": {
        "id": "1HHA9ludN77U"
      }
    },
    {
      "cell_type": "code",
      "source": [
        "# Python3 샘플 코드 #\n",
        "import requests\n",
        "\n",
        "url = 'https://apis.data.go.kr/1360000/TourStnInfoService1/getTourStnVilageFcst1?serviceKey=MIe3DGXhgZez8IKsUCzyozfnp9dI8s5CTUpKRvta07JqEs7uLA3tA58Io9TqmV0z8uF1g9rgeWsTDiuSqJs3MA%3D%3D&pageNo=1&numOfRows=10&dataType=XML&CURRENT_DATE=2019122010&HOUR=24&COURSE_ID=12'\n",
        "\n",
        "response = requests.get(url, params=params)\n",
        "print(response.content)\n",
        "\n",
        "bsObject = BeautifulSoup(response.content, \"html.parser\")\n",
        "print(bsObject.find_all('item'))"
      ],
      "metadata": {
        "colab": {
          "base_uri": "https://localhost:8080/"
        },
        "id": "o7VGlmPTfFSE",
        "outputId": "8a8ea896-cb2c-4b4e-a8e8-bfd77d3b7eee"
      },
      "execution_count": null,
      "outputs": [
        {
          "output_type": "stream",
          "name": "stdout",
          "text": [
            "Object `serviceKey=MIe3DGXhgZez8IKsUCzyozfnp9dI8s5CTUpKRvta07JqEs7uLA3tA58Io9TqmV0z8uF1g9rgeWsTDiuSqJs3MA%3D%3D&pageNo=1&numOfRows=10&dataType=XML&CURRENT_DATE=2019122010&HOUR=24&COURSE_ID=12` not found.\n",
            "b'<?xml version=\"1.0\" encoding=\"UTF-8\"?>\\r\\n<response><header><resultCode>00</resultCode><resultMsg>NORMAL_SERVICE</resultMsg></header><body><dataType>XML</dataType><items><item><tm>2019-12-22 09:00</tm><thema>\\xec\\xa2\\x85\\xea\\xb5\\x90/\\xec\\x97\\xad\\xec\\x82\\xac/\\xec\\xa0\\x84\\xed\\x86\\xb5</thema><courseId>12</courseId><courseAreaId>4400000000</courseAreaId><courseAreaName>\\xec\\xb6\\xa9\\xec\\xb2\\xad\\xeb\\x82\\xa8\\xeb\\x8f\\x84</courseAreaName><courseName>\\xec\\xb6\\xa9\\xec\\xb2\\xad\\xeb\\x82\\xa8\\xeb\\x8f\\x84\\xec\\x9d\\x98 \\xec\\x9e\\x90\\xec\\x97\\xb0\\xec\\x97\\x90 \\xed\\x92\\x8d\\xeb\\x8d\\xa9 \\xeb\\xb9\\xa0\\xec\\xa0\\xb8 \\xec\\xa6\\x90\\xea\\xb8\\xb0\\xeb\\x8b\\xa4</courseName><spotAreaId>1202</spotAreaId><spotAreaName>\\xec\\x84\\x9c\\xec\\x82\\xb0</spotAreaName><spotName>(\\xec\\x84\\x9c\\xec\\x82\\xb0)\\xeb\\xb6\\x80\\xec\\x84\\x9d\\xec\\x82\\xac</spotName><th3>4</th3><wd>141</wd><ws>1</ws><sky>4</sky><rhm>90</rhm><pop>30</pop></item><item><tm>2019-12-22 09:00</tm><thema>\\xec\\x9e\\x90\\xec\\x97\\xb0/\\xed\\x9e\\x90\\xeb\\xa7\\x81</thema><courseId>12</courseId><courseAreaId>4400000000</courseAreaId><courseAreaName>\\xec\\xb6\\xa9\\xec\\xb2\\xad\\xeb\\x82\\xa8\\xeb\\x8f\\x84</courseAreaName><courseName>\\xec\\xb6\\xa9\\xec\\xb2\\xad\\xeb\\x82\\xa8\\xeb\\x8f\\x84\\xec\\x9d\\x98 \\xec\\x9e\\x90\\xec\\x97\\xb0\\xec\\x97\\x90 \\xed\\x92\\x8d\\xeb\\x8d\\xa9 \\xeb\\xb9\\xa0\\xec\\xa0\\xb8 \\xec\\xa6\\x90\\xea\\xb8\\xb0\\xeb\\x8b\\xa4</courseName><spotAreaId>1204</spotAreaId><spotAreaName>\\xed\\x83\\x9c\\xec\\x95\\x88</spotAreaName><spotName>(\\xed\\x83\\x9c\\xec\\x95\\x88)\\xec\\x95\\x88\\xeb\\xa9\\xb4\\xeb\\x8f\\x84\\xec\\x9e\\x90\\xec\\x97\\xb0\\xed\\x9c\\xb4\\xec\\x96\\x91\\xeb\\xa6\\xbc</spotName><th3>4</th3><wd>135</wd><ws>1</ws><sky>4</sky><rhm>75</rhm><pop>30</pop></item><item><tm>2019-12-22 09:00</tm><thema>\\xec\\xa2\\x85\\xea\\xb5\\x90/\\xec\\x97\\xad\\xec\\x82\\xac/\\xec\\xa0\\x84\\xed\\x86\\xb5</thema><courseId>12</courseId><courseAreaId>4400000000</courseAreaId><courseAreaName>\\xec\\xb6\\xa9\\xec\\xb2\\xad\\xeb\\x82\\xa8\\xeb\\x8f\\x84</courseAreaName><courseName>\\xec\\xb6\\xa9\\xec\\xb2\\xad\\xeb\\x82\\xa8\\xeb\\x8f\\x84\\xec\\x9d\\x98 \\xec\\x9e\\x90\\xec\\x97\\xb0\\xec\\x97\\x90 \\xed\\x92\\x8d\\xeb\\x8d\\xa9 \\xeb\\xb9\\xa0\\xec\\xa0\\xb8 \\xec\\xa6\\x90\\xea\\xb8\\xb0\\xeb\\x8b\\xa4</courseName><spotAreaId>1203</spotAreaId><spotAreaName>\\xec\\x84\\x9c\\xec\\x82\\xb0</spotAreaName><spotName>(\\xec\\x84\\x9c\\xec\\x82\\xb0)\\xec\\xb2\\x9c\\xec\\x88\\x98\\xeb\\xa7\\x8c/\\xea\\xb0\\x84\\xec\\x9b\\x94\\xec\\x95\\x94 </spotName><th3>3</th3><wd>132</wd><ws>1</ws><sky>4</sky><rhm>80</rhm><pop>30</pop></item><item><tm>2019-12-22 09:00</tm><thema>\\xec\\x9e\\x90\\xec\\x97\\xb0/\\xed\\x9e\\x90\\xeb\\xa7\\x81</thema><courseId>12</courseId><courseAreaId>4400000000</courseAreaId><courseAreaName>\\xec\\xb6\\xa9\\xec\\xb2\\xad\\xeb\\x82\\xa8\\xeb\\x8f\\x84</courseAreaName><courseName>\\xec\\xb6\\xa9\\xec\\xb2\\xad\\xeb\\x82\\xa8\\xeb\\x8f\\x84\\xec\\x9d\\x98 \\xec\\x9e\\x90\\xec\\x97\\xb0\\xec\\x97\\x90 \\xed\\x92\\x8d\\xeb\\x8d\\xa9 \\xeb\\xb9\\xa0\\xec\\xa0\\xb8 \\xec\\xa6\\x90\\xea\\xb8\\xb0\\xeb\\x8b\\xa4</courseName><spotAreaId>1203</spotAreaId><spotAreaName>\\xec\\x84\\x9c\\xec\\x82\\xb0</spotAreaName><spotName>(\\xec\\x84\\x9c\\xec\\x82\\xb0)\\xec\\xb2\\x9c\\xec\\x88\\x98\\xeb\\xa7\\x8c/\\xea\\xb0\\x84\\xec\\x9b\\x94\\xec\\x95\\x94 </spotName><th3>3</th3><wd>132</wd><ws>1</ws><sky>4</sky><rhm>80</rhm><pop>30</pop></item><item><tm>2019-12-22 09:00</tm><thema>\\xec\\xa2\\x85\\xea\\xb5\\x90/\\xec\\x97\\xad\\xec\\x82\\xac/\\xec\\xa0\\x84\\xed\\x86\\xb5</thema><courseId>12</courseId><courseAreaId>4400000000</courseAreaId><courseAreaName>\\xec\\xb6\\xa9\\xec\\xb2\\xad\\xeb\\x82\\xa8\\xeb\\x8f\\x84</courseAreaName><courseName>\\xec\\xb6\\xa9\\xec\\xb2\\xad\\xeb\\x82\\xa8\\xeb\\x8f\\x84\\xec\\x9d\\x98 \\xec\\x9e\\x90\\xec\\x97\\xb0\\xec\\x97\\x90 \\xed\\x92\\x8d\\xeb\\x8d\\xa9 \\xeb\\xb9\\xa0\\xec\\xa0\\xb8 \\xec\\xa6\\x90\\xea\\xb8\\xb0\\xeb\\x8b\\xa4</courseName><spotAreaId>1204</spotAreaId><spotAreaName>\\xed\\x83\\x9c\\xec\\x95\\x88</spotAreaName><spotName>(\\xed\\x83\\x9c\\xec\\x95\\x88)\\xec\\x95\\x88\\xeb\\xa9\\xb4\\xeb\\x8f\\x84\\xec\\x9e\\x90\\xec\\x97\\xb0\\xed\\x9c\\xb4\\xec\\x96\\x91\\xeb\\xa6\\xbc</spotName><th3>4</th3><wd>135</wd><ws>1</ws><sky>4</sky><rhm>75</rhm><pop>30</pop></item><item><tm>2019-12-22 09:00</tm><thema>\\xec\\x9e\\x90\\xec\\x97\\xb0/\\xed\\x9e\\x90\\xeb\\xa7\\x81</thema><courseId>12</courseId><courseAreaId>4400000000</courseAreaId><courseAreaName>\\xec\\xb6\\xa9\\xec\\xb2\\xad\\xeb\\x82\\xa8\\xeb\\x8f\\x84</courseAreaName><courseName>\\xec\\xb6\\xa9\\xec\\xb2\\xad\\xeb\\x82\\xa8\\xeb\\x8f\\x84\\xec\\x9d\\x98 \\xec\\x9e\\x90\\xec\\x97\\xb0\\xec\\x97\\x90 \\xed\\x92\\x8d\\xeb\\x8d\\xa9 \\xeb\\xb9\\xa0\\xec\\xa0\\xb8 \\xec\\xa6\\x90\\xea\\xb8\\xb0\\xeb\\x8b\\xa4</courseName><spotAreaId>1202</spotAreaId><spotAreaName>\\xec\\x84\\x9c\\xec\\x82\\xb0</spotAreaName><spotName>(\\xec\\x84\\x9c\\xec\\x82\\xb0)\\xeb\\xb6\\x80\\xec\\x84\\x9d\\xec\\x82\\xac</spotName><th3>4</th3><wd>141</wd><ws>1</ws><sky>4</sky><rhm>90</rhm><pop>30</pop></item><item><tm>2019-12-22 09:00</tm><thema>\\xec\\xa2\\x85\\xea\\xb5\\x90/\\xec\\x97\\xad\\xec\\x82\\xac/\\xec\\xa0\\x84\\xed\\x86\\xb5</thema><courseId>12</courseId><courseAreaId>4400000000</courseAreaId><courseAreaName>\\xec\\xb6\\xa9\\xec\\xb2\\xad\\xeb\\x82\\xa8\\xeb\\x8f\\x84</courseAreaName><courseName>\\xec\\xb6\\xa9\\xec\\xb2\\xad\\xeb\\x82\\xa8\\xeb\\x8f\\x84\\xec\\x9d\\x98 \\xec\\x9e\\x90\\xec\\x97\\xb0\\xec\\x97\\x90 \\xed\\x92\\x8d\\xeb\\x8d\\xa9 \\xeb\\xb9\\xa0\\xec\\xa0\\xb8 \\xec\\xa6\\x90\\xea\\xb8\\xb0\\xeb\\x8b\\xa4</courseName><spotAreaId>1201</spotAreaId><spotAreaName>\\xec\\x84\\x9c\\xec\\x82\\xb0</spotAreaName><spotName>(\\xec\\x84\\x9c\\xec\\x82\\xb0)\\xec\\x82\\xbc\\xea\\xb8\\xb8\\xed\\x8f\\xac\\xed\\x95\\xad </spotName><th3>3</th3><wd>129</wd><ws>1</ws><sky>4</sky><rhm>90</rhm><pop>30</pop></item><item><tm>2019-12-22 09:00</tm><thema>\\xec\\x9e\\x90\\xec\\x97\\xb0/\\xed\\x9e\\x90\\xeb\\xa7\\x81</thema><courseId>12</courseId><courseAreaId>4400000000</courseAreaId><courseAreaName>\\xec\\xb6\\xa9\\xec\\xb2\\xad\\xeb\\x82\\xa8\\xeb\\x8f\\x84</courseAreaName><courseName>\\xec\\xb6\\xa9\\xec\\xb2\\xad\\xeb\\x82\\xa8\\xeb\\x8f\\x84\\xec\\x9d\\x98 \\xec\\x9e\\x90\\xec\\x97\\xb0\\xec\\x97\\x90 \\xed\\x92\\x8d\\xeb\\x8d\\xa9 \\xeb\\xb9\\xa0\\xec\\xa0\\xb8 \\xec\\xa6\\x90\\xea\\xb8\\xb0\\xeb\\x8b\\xa4</courseName><spotAreaId>1201</spotAreaId><spotAreaName>\\xec\\x84\\x9c\\xec\\x82\\xb0</spotAreaName><spotName>(\\xec\\x84\\x9c\\xec\\x82\\xb0)\\xec\\x82\\xbc\\xea\\xb8\\xb8\\xed\\x8f\\xac\\xed\\x95\\xad </spotName><th3>3</th3><wd>129</wd><ws>1</ws><sky>4</sky><rhm>90</rhm><pop>30</pop></item><item><tm>2019-12-22 06:00</tm><thema>\\xec\\xa2\\x85\\xea\\xb5\\x90/\\xec\\x97\\xad\\xec\\x82\\xac/\\xec\\xa0\\x84\\xed\\x86\\xb5</thema><courseId>12</courseId><courseAreaId>4400000000</courseAreaId><courseAreaName>\\xec\\xb6\\xa9\\xec\\xb2\\xad\\xeb\\x82\\xa8\\xeb\\x8f\\x84</courseAreaName><courseName>\\xec\\xb6\\xa9\\xec\\xb2\\xad\\xeb\\x82\\xa8\\xeb\\x8f\\x84\\xec\\x9d\\x98 \\xec\\x9e\\x90\\xec\\x97\\xb0\\xec\\x97\\x90 \\xed\\x92\\x8d\\xeb\\x8d\\xa9 \\xeb\\xb9\\xa0\\xec\\xa0\\xb8 \\xec\\xa6\\x90\\xea\\xb8\\xb0\\xeb\\x8b\\xa4</courseName><spotAreaId>1202</spotAreaId><spotAreaName>\\xec\\x84\\x9c\\xec\\x82\\xb0</spotAreaName><spotName>(\\xec\\x84\\x9c\\xec\\x82\\xb0)\\xeb\\xb6\\x80\\xec\\x84\\x9d\\xec\\x82\\xac</spotName><th3>3</th3><wd>112</wd><ws>1</ws><sky>4</sky><rhm>90</rhm><pop>30</pop></item><item><tm>2019-12-22 06:00</tm><thema>\\xec\\x9e\\x90\\xec\\x97\\xb0/\\xed\\x9e\\x90\\xeb\\xa7\\x81</thema><courseId>12</courseId><courseAreaId>4400000000</courseAreaId><courseAreaName>\\xec\\xb6\\xa9\\xec\\xb2\\xad\\xeb\\x82\\xa8\\xeb\\x8f\\x84</courseAreaName><courseName>\\xec\\xb6\\xa9\\xec\\xb2\\xad\\xeb\\x82\\xa8\\xeb\\x8f\\x84\\xec\\x9d\\x98 \\xec\\x9e\\x90\\xec\\x97\\xb0\\xec\\x97\\x90 \\xed\\x92\\x8d\\xeb\\x8d\\xa9 \\xeb\\xb9\\xa0\\xec\\xa0\\xb8 \\xec\\xa6\\x90\\xea\\xb8\\xb0\\xeb\\x8b\\xa4</courseName><spotAreaId>1202</spotAreaId><spotAreaName>\\xec\\x84\\x9c\\xec\\x82\\xb0</spotAreaName><spotName>(\\xec\\x84\\x9c\\xec\\x82\\xb0)\\xeb\\xb6\\x80\\xec\\x84\\x9d\\xec\\x82\\xac</spotName><th3>3</th3><wd>112</wd><ws>1</ws><sky>4</sky><rhm>90</rhm><pop>30</pop></item></items><numOfRows>10</numOfRows><pageNo>1</pageNo><totalCount>128</totalCount></body></response>\\r\\n'\n",
            "[<item><tm>2019-12-22 09:00</tm><thema>종교/역사/전통</thema><courseid>12</courseid><courseareaid>4400000000</courseareaid><courseareaname>충청남도</courseareaname><coursename>충청남도의 자연에 풍덩 빠져 즐기다</coursename><spotareaid>1202</spotareaid><spotareaname>서산</spotareaname><spotname>(서산)부석사</spotname><th3>4</th3><wd>141</wd><ws>1</ws><sky>4</sky><rhm>90</rhm><pop>30</pop></item>, <item><tm>2019-12-22 09:00</tm><thema>자연/힐링</thema><courseid>12</courseid><courseareaid>4400000000</courseareaid><courseareaname>충청남도</courseareaname><coursename>충청남도의 자연에 풍덩 빠져 즐기다</coursename><spotareaid>1204</spotareaid><spotareaname>태안</spotareaname><spotname>(태안)안면도자연휴양림</spotname><th3>4</th3><wd>135</wd><ws>1</ws><sky>4</sky><rhm>75</rhm><pop>30</pop></item>, <item><tm>2019-12-22 09:00</tm><thema>종교/역사/전통</thema><courseid>12</courseid><courseareaid>4400000000</courseareaid><courseareaname>충청남도</courseareaname><coursename>충청남도의 자연에 풍덩 빠져 즐기다</coursename><spotareaid>1203</spotareaid><spotareaname>서산</spotareaname><spotname>(서산)천수만/간월암 </spotname><th3>3</th3><wd>132</wd><ws>1</ws><sky>4</sky><rhm>80</rhm><pop>30</pop></item>, <item><tm>2019-12-22 09:00</tm><thema>자연/힐링</thema><courseid>12</courseid><courseareaid>4400000000</courseareaid><courseareaname>충청남도</courseareaname><coursename>충청남도의 자연에 풍덩 빠져 즐기다</coursename><spotareaid>1203</spotareaid><spotareaname>서산</spotareaname><spotname>(서산)천수만/간월암 </spotname><th3>3</th3><wd>132</wd><ws>1</ws><sky>4</sky><rhm>80</rhm><pop>30</pop></item>, <item><tm>2019-12-22 09:00</tm><thema>종교/역사/전통</thema><courseid>12</courseid><courseareaid>4400000000</courseareaid><courseareaname>충청남도</courseareaname><coursename>충청남도의 자연에 풍덩 빠져 즐기다</coursename><spotareaid>1204</spotareaid><spotareaname>태안</spotareaname><spotname>(태안)안면도자연휴양림</spotname><th3>4</th3><wd>135</wd><ws>1</ws><sky>4</sky><rhm>75</rhm><pop>30</pop></item>, <item><tm>2019-12-22 09:00</tm><thema>자연/힐링</thema><courseid>12</courseid><courseareaid>4400000000</courseareaid><courseareaname>충청남도</courseareaname><coursename>충청남도의 자연에 풍덩 빠져 즐기다</coursename><spotareaid>1202</spotareaid><spotareaname>서산</spotareaname><spotname>(서산)부석사</spotname><th3>4</th3><wd>141</wd><ws>1</ws><sky>4</sky><rhm>90</rhm><pop>30</pop></item>, <item><tm>2019-12-22 09:00</tm><thema>종교/역사/전통</thema><courseid>12</courseid><courseareaid>4400000000</courseareaid><courseareaname>충청남도</courseareaname><coursename>충청남도의 자연에 풍덩 빠져 즐기다</coursename><spotareaid>1201</spotareaid><spotareaname>서산</spotareaname><spotname>(서산)삼길포항 </spotname><th3>3</th3><wd>129</wd><ws>1</ws><sky>4</sky><rhm>90</rhm><pop>30</pop></item>, <item><tm>2019-12-22 09:00</tm><thema>자연/힐링</thema><courseid>12</courseid><courseareaid>4400000000</courseareaid><courseareaname>충청남도</courseareaname><coursename>충청남도의 자연에 풍덩 빠져 즐기다</coursename><spotareaid>1201</spotareaid><spotareaname>서산</spotareaname><spotname>(서산)삼길포항 </spotname><th3>3</th3><wd>129</wd><ws>1</ws><sky>4</sky><rhm>90</rhm><pop>30</pop></item>, <item><tm>2019-12-22 06:00</tm><thema>종교/역사/전통</thema><courseid>12</courseid><courseareaid>4400000000</courseareaid><courseareaname>충청남도</courseareaname><coursename>충청남도의 자연에 풍덩 빠져 즐기다</coursename><spotareaid>1202</spotareaid><spotareaname>서산</spotareaname><spotname>(서산)부석사</spotname><th3>3</th3><wd>112</wd><ws>1</ws><sky>4</sky><rhm>90</rhm><pop>30</pop></item>, <item><tm>2019-12-22 06:00</tm><thema>자연/힐링</thema><courseid>12</courseid><courseareaid>4400000000</courseareaid><courseareaname>충청남도</courseareaname><coursename>충청남도의 자연에 풍덩 빠져 즐기다</coursename><spotareaid>1202</spotareaid><spotareaname>서산</spotareaname><spotname>(서산)부석사</spotname><th3>3</th3><wd>112</wd><ws>1</ws><sky>4</sky><rhm>90</rhm><pop>30</pop></item>]\n"
          ]
        }
      ]
    },
    {
      "cell_type": "code",
      "source": [
        "# Python3 샘플 코드 #\n",
        "import requests\n",
        "\n",
        "url = 'https://apis.data.go.kr/1360000/TourStnInfoService1/getTourStnVilageFcst1'\n",
        "params ={'serviceKey' : 'MIe3DGXhgZez8IKsUCzyozfnp9dI8s5CTUpKRvta07JqEs7uLA3tA58Io9TqmV0z8uF1g9rgeWsTDiuSqJs3MA==', \n",
        "         'pageNo' : '1', 'numOfRows' : '10', 'dataType' : 'XML', \n",
        "         'CURRENT_DATE' : '2019122010', 'HOUR' : '24', \n",
        "         'COURSE_ID' : '12'}\n",
        "\n",
        "response = requests.get(url, params=params)\n",
        "print(response.content)\n",
        "\n",
        "bsObject = BeautifulSoup(response.content, \"html.parser\")\n",
        "print(bsObject.find_all('item')[0])"
      ],
      "metadata": {
        "colab": {
          "base_uri": "https://localhost:8080/"
        },
        "id": "GpenSdlCfFK6",
        "outputId": "48656515-6d5c-4ed8-e0b0-0be2cfbd8a7a"
      },
      "execution_count": null,
      "outputs": [
        {
          "output_type": "stream",
          "name": "stdout",
          "text": [
            "b'<?xml version=\"1.0\" encoding=\"UTF-8\"?>\\r\\n<response><header><resultCode>00</resultCode><resultMsg>NORMAL_SERVICE</resultMsg></header><body><dataType>XML</dataType><items><item><tm>2019-12-22 09:00</tm><thema>\\xec\\xa2\\x85\\xea\\xb5\\x90/\\xec\\x97\\xad\\xec\\x82\\xac/\\xec\\xa0\\x84\\xed\\x86\\xb5</thema><courseId>12</courseId><courseAreaId>4400000000</courseAreaId><courseAreaName>\\xec\\xb6\\xa9\\xec\\xb2\\xad\\xeb\\x82\\xa8\\xeb\\x8f\\x84</courseAreaName><courseName>\\xec\\xb6\\xa9\\xec\\xb2\\xad\\xeb\\x82\\xa8\\xeb\\x8f\\x84\\xec\\x9d\\x98 \\xec\\x9e\\x90\\xec\\x97\\xb0\\xec\\x97\\x90 \\xed\\x92\\x8d\\xeb\\x8d\\xa9 \\xeb\\xb9\\xa0\\xec\\xa0\\xb8 \\xec\\xa6\\x90\\xea\\xb8\\xb0\\xeb\\x8b\\xa4</courseName><spotAreaId>1202</spotAreaId><spotAreaName>\\xec\\x84\\x9c\\xec\\x82\\xb0</spotAreaName><spotName>(\\xec\\x84\\x9c\\xec\\x82\\xb0)\\xeb\\xb6\\x80\\xec\\x84\\x9d\\xec\\x82\\xac</spotName><th3>4</th3><wd>141</wd><ws>1</ws><sky>4</sky><rhm>90</rhm><pop>30</pop></item><item><tm>2019-12-22 09:00</tm><thema>\\xec\\x9e\\x90\\xec\\x97\\xb0/\\xed\\x9e\\x90\\xeb\\xa7\\x81</thema><courseId>12</courseId><courseAreaId>4400000000</courseAreaId><courseAreaName>\\xec\\xb6\\xa9\\xec\\xb2\\xad\\xeb\\x82\\xa8\\xeb\\x8f\\x84</courseAreaName><courseName>\\xec\\xb6\\xa9\\xec\\xb2\\xad\\xeb\\x82\\xa8\\xeb\\x8f\\x84\\xec\\x9d\\x98 \\xec\\x9e\\x90\\xec\\x97\\xb0\\xec\\x97\\x90 \\xed\\x92\\x8d\\xeb\\x8d\\xa9 \\xeb\\xb9\\xa0\\xec\\xa0\\xb8 \\xec\\xa6\\x90\\xea\\xb8\\xb0\\xeb\\x8b\\xa4</courseName><spotAreaId>1204</spotAreaId><spotAreaName>\\xed\\x83\\x9c\\xec\\x95\\x88</spotAreaName><spotName>(\\xed\\x83\\x9c\\xec\\x95\\x88)\\xec\\x95\\x88\\xeb\\xa9\\xb4\\xeb\\x8f\\x84\\xec\\x9e\\x90\\xec\\x97\\xb0\\xed\\x9c\\xb4\\xec\\x96\\x91\\xeb\\xa6\\xbc</spotName><th3>4</th3><wd>135</wd><ws>1</ws><sky>4</sky><rhm>75</rhm><pop>30</pop></item><item><tm>2019-12-22 09:00</tm><thema>\\xec\\xa2\\x85\\xea\\xb5\\x90/\\xec\\x97\\xad\\xec\\x82\\xac/\\xec\\xa0\\x84\\xed\\x86\\xb5</thema><courseId>12</courseId><courseAreaId>4400000000</courseAreaId><courseAreaName>\\xec\\xb6\\xa9\\xec\\xb2\\xad\\xeb\\x82\\xa8\\xeb\\x8f\\x84</courseAreaName><courseName>\\xec\\xb6\\xa9\\xec\\xb2\\xad\\xeb\\x82\\xa8\\xeb\\x8f\\x84\\xec\\x9d\\x98 \\xec\\x9e\\x90\\xec\\x97\\xb0\\xec\\x97\\x90 \\xed\\x92\\x8d\\xeb\\x8d\\xa9 \\xeb\\xb9\\xa0\\xec\\xa0\\xb8 \\xec\\xa6\\x90\\xea\\xb8\\xb0\\xeb\\x8b\\xa4</courseName><spotAreaId>1203</spotAreaId><spotAreaName>\\xec\\x84\\x9c\\xec\\x82\\xb0</spotAreaName><spotName>(\\xec\\x84\\x9c\\xec\\x82\\xb0)\\xec\\xb2\\x9c\\xec\\x88\\x98\\xeb\\xa7\\x8c/\\xea\\xb0\\x84\\xec\\x9b\\x94\\xec\\x95\\x94 </spotName><th3>3</th3><wd>132</wd><ws>1</ws><sky>4</sky><rhm>80</rhm><pop>30</pop></item><item><tm>2019-12-22 09:00</tm><thema>\\xec\\x9e\\x90\\xec\\x97\\xb0/\\xed\\x9e\\x90\\xeb\\xa7\\x81</thema><courseId>12</courseId><courseAreaId>4400000000</courseAreaId><courseAreaName>\\xec\\xb6\\xa9\\xec\\xb2\\xad\\xeb\\x82\\xa8\\xeb\\x8f\\x84</courseAreaName><courseName>\\xec\\xb6\\xa9\\xec\\xb2\\xad\\xeb\\x82\\xa8\\xeb\\x8f\\x84\\xec\\x9d\\x98 \\xec\\x9e\\x90\\xec\\x97\\xb0\\xec\\x97\\x90 \\xed\\x92\\x8d\\xeb\\x8d\\xa9 \\xeb\\xb9\\xa0\\xec\\xa0\\xb8 \\xec\\xa6\\x90\\xea\\xb8\\xb0\\xeb\\x8b\\xa4</courseName><spotAreaId>1203</spotAreaId><spotAreaName>\\xec\\x84\\x9c\\xec\\x82\\xb0</spotAreaName><spotName>(\\xec\\x84\\x9c\\xec\\x82\\xb0)\\xec\\xb2\\x9c\\xec\\x88\\x98\\xeb\\xa7\\x8c/\\xea\\xb0\\x84\\xec\\x9b\\x94\\xec\\x95\\x94 </spotName><th3>3</th3><wd>132</wd><ws>1</ws><sky>4</sky><rhm>80</rhm><pop>30</pop></item><item><tm>2019-12-22 09:00</tm><thema>\\xec\\xa2\\x85\\xea\\xb5\\x90/\\xec\\x97\\xad\\xec\\x82\\xac/\\xec\\xa0\\x84\\xed\\x86\\xb5</thema><courseId>12</courseId><courseAreaId>4400000000</courseAreaId><courseAreaName>\\xec\\xb6\\xa9\\xec\\xb2\\xad\\xeb\\x82\\xa8\\xeb\\x8f\\x84</courseAreaName><courseName>\\xec\\xb6\\xa9\\xec\\xb2\\xad\\xeb\\x82\\xa8\\xeb\\x8f\\x84\\xec\\x9d\\x98 \\xec\\x9e\\x90\\xec\\x97\\xb0\\xec\\x97\\x90 \\xed\\x92\\x8d\\xeb\\x8d\\xa9 \\xeb\\xb9\\xa0\\xec\\xa0\\xb8 \\xec\\xa6\\x90\\xea\\xb8\\xb0\\xeb\\x8b\\xa4</courseName><spotAreaId>1204</spotAreaId><spotAreaName>\\xed\\x83\\x9c\\xec\\x95\\x88</spotAreaName><spotName>(\\xed\\x83\\x9c\\xec\\x95\\x88)\\xec\\x95\\x88\\xeb\\xa9\\xb4\\xeb\\x8f\\x84\\xec\\x9e\\x90\\xec\\x97\\xb0\\xed\\x9c\\xb4\\xec\\x96\\x91\\xeb\\xa6\\xbc</spotName><th3>4</th3><wd>135</wd><ws>1</ws><sky>4</sky><rhm>75</rhm><pop>30</pop></item><item><tm>2019-12-22 09:00</tm><thema>\\xec\\x9e\\x90\\xec\\x97\\xb0/\\xed\\x9e\\x90\\xeb\\xa7\\x81</thema><courseId>12</courseId><courseAreaId>4400000000</courseAreaId><courseAreaName>\\xec\\xb6\\xa9\\xec\\xb2\\xad\\xeb\\x82\\xa8\\xeb\\x8f\\x84</courseAreaName><courseName>\\xec\\xb6\\xa9\\xec\\xb2\\xad\\xeb\\x82\\xa8\\xeb\\x8f\\x84\\xec\\x9d\\x98 \\xec\\x9e\\x90\\xec\\x97\\xb0\\xec\\x97\\x90 \\xed\\x92\\x8d\\xeb\\x8d\\xa9 \\xeb\\xb9\\xa0\\xec\\xa0\\xb8 \\xec\\xa6\\x90\\xea\\xb8\\xb0\\xeb\\x8b\\xa4</courseName><spotAreaId>1202</spotAreaId><spotAreaName>\\xec\\x84\\x9c\\xec\\x82\\xb0</spotAreaName><spotName>(\\xec\\x84\\x9c\\xec\\x82\\xb0)\\xeb\\xb6\\x80\\xec\\x84\\x9d\\xec\\x82\\xac</spotName><th3>4</th3><wd>141</wd><ws>1</ws><sky>4</sky><rhm>90</rhm><pop>30</pop></item><item><tm>2019-12-22 09:00</tm><thema>\\xec\\xa2\\x85\\xea\\xb5\\x90/\\xec\\x97\\xad\\xec\\x82\\xac/\\xec\\xa0\\x84\\xed\\x86\\xb5</thema><courseId>12</courseId><courseAreaId>4400000000</courseAreaId><courseAreaName>\\xec\\xb6\\xa9\\xec\\xb2\\xad\\xeb\\x82\\xa8\\xeb\\x8f\\x84</courseAreaName><courseName>\\xec\\xb6\\xa9\\xec\\xb2\\xad\\xeb\\x82\\xa8\\xeb\\x8f\\x84\\xec\\x9d\\x98 \\xec\\x9e\\x90\\xec\\x97\\xb0\\xec\\x97\\x90 \\xed\\x92\\x8d\\xeb\\x8d\\xa9 \\xeb\\xb9\\xa0\\xec\\xa0\\xb8 \\xec\\xa6\\x90\\xea\\xb8\\xb0\\xeb\\x8b\\xa4</courseName><spotAreaId>1201</spotAreaId><spotAreaName>\\xec\\x84\\x9c\\xec\\x82\\xb0</spotAreaName><spotName>(\\xec\\x84\\x9c\\xec\\x82\\xb0)\\xec\\x82\\xbc\\xea\\xb8\\xb8\\xed\\x8f\\xac\\xed\\x95\\xad </spotName><th3>3</th3><wd>129</wd><ws>1</ws><sky>4</sky><rhm>90</rhm><pop>30</pop></item><item><tm>2019-12-22 09:00</tm><thema>\\xec\\x9e\\x90\\xec\\x97\\xb0/\\xed\\x9e\\x90\\xeb\\xa7\\x81</thema><courseId>12</courseId><courseAreaId>4400000000</courseAreaId><courseAreaName>\\xec\\xb6\\xa9\\xec\\xb2\\xad\\xeb\\x82\\xa8\\xeb\\x8f\\x84</courseAreaName><courseName>\\xec\\xb6\\xa9\\xec\\xb2\\xad\\xeb\\x82\\xa8\\xeb\\x8f\\x84\\xec\\x9d\\x98 \\xec\\x9e\\x90\\xec\\x97\\xb0\\xec\\x97\\x90 \\xed\\x92\\x8d\\xeb\\x8d\\xa9 \\xeb\\xb9\\xa0\\xec\\xa0\\xb8 \\xec\\xa6\\x90\\xea\\xb8\\xb0\\xeb\\x8b\\xa4</courseName><spotAreaId>1201</spotAreaId><spotAreaName>\\xec\\x84\\x9c\\xec\\x82\\xb0</spotAreaName><spotName>(\\xec\\x84\\x9c\\xec\\x82\\xb0)\\xec\\x82\\xbc\\xea\\xb8\\xb8\\xed\\x8f\\xac\\xed\\x95\\xad </spotName><th3>3</th3><wd>129</wd><ws>1</ws><sky>4</sky><rhm>90</rhm><pop>30</pop></item><item><tm>2019-12-22 06:00</tm><thema>\\xec\\xa2\\x85\\xea\\xb5\\x90/\\xec\\x97\\xad\\xec\\x82\\xac/\\xec\\xa0\\x84\\xed\\x86\\xb5</thema><courseId>12</courseId><courseAreaId>4400000000</courseAreaId><courseAreaName>\\xec\\xb6\\xa9\\xec\\xb2\\xad\\xeb\\x82\\xa8\\xeb\\x8f\\x84</courseAreaName><courseName>\\xec\\xb6\\xa9\\xec\\xb2\\xad\\xeb\\x82\\xa8\\xeb\\x8f\\x84\\xec\\x9d\\x98 \\xec\\x9e\\x90\\xec\\x97\\xb0\\xec\\x97\\x90 \\xed\\x92\\x8d\\xeb\\x8d\\xa9 \\xeb\\xb9\\xa0\\xec\\xa0\\xb8 \\xec\\xa6\\x90\\xea\\xb8\\xb0\\xeb\\x8b\\xa4</courseName><spotAreaId>1202</spotAreaId><spotAreaName>\\xec\\x84\\x9c\\xec\\x82\\xb0</spotAreaName><spotName>(\\xec\\x84\\x9c\\xec\\x82\\xb0)\\xeb\\xb6\\x80\\xec\\x84\\x9d\\xec\\x82\\xac</spotName><th3>3</th3><wd>112</wd><ws>1</ws><sky>4</sky><rhm>90</rhm><pop>30</pop></item><item><tm>2019-12-22 06:00</tm><thema>\\xec\\x9e\\x90\\xec\\x97\\xb0/\\xed\\x9e\\x90\\xeb\\xa7\\x81</thema><courseId>12</courseId><courseAreaId>4400000000</courseAreaId><courseAreaName>\\xec\\xb6\\xa9\\xec\\xb2\\xad\\xeb\\x82\\xa8\\xeb\\x8f\\x84</courseAreaName><courseName>\\xec\\xb6\\xa9\\xec\\xb2\\xad\\xeb\\x82\\xa8\\xeb\\x8f\\x84\\xec\\x9d\\x98 \\xec\\x9e\\x90\\xec\\x97\\xb0\\xec\\x97\\x90 \\xed\\x92\\x8d\\xeb\\x8d\\xa9 \\xeb\\xb9\\xa0\\xec\\xa0\\xb8 \\xec\\xa6\\x90\\xea\\xb8\\xb0\\xeb\\x8b\\xa4</courseName><spotAreaId>1202</spotAreaId><spotAreaName>\\xec\\x84\\x9c\\xec\\x82\\xb0</spotAreaName><spotName>(\\xec\\x84\\x9c\\xec\\x82\\xb0)\\xeb\\xb6\\x80\\xec\\x84\\x9d\\xec\\x82\\xac</spotName><th3>3</th3><wd>112</wd><ws>1</ws><sky>4</sky><rhm>90</rhm><pop>30</pop></item></items><numOfRows>10</numOfRows><pageNo>1</pageNo><totalCount>128</totalCount></body></response>\\r\\n'\n",
            "<item><tm>2019-12-22 09:00</tm><thema>종교/역사/전통</thema><courseid>12</courseid><courseareaid>4400000000</courseareaid><courseareaname>충청남도</courseareaname><coursename>충청남도의 자연에 풍덩 빠져 즐기다</coursename><spotareaid>1202</spotareaid><spotareaname>서산</spotareaname><spotname>(서산)부석사</spotname><th3>4</th3><wd>141</wd><ws>1</ws><sky>4</sky><rhm>90</rhm><pop>30</pop></item>\n"
          ]
        }
      ]
    },
    {
      "cell_type": "code",
      "source": [],
      "metadata": {
        "id": "AFNAda4-Z9Ak"
      },
      "execution_count": null,
      "outputs": []
    },
    {
      "cell_type": "code",
      "source": [
        "# Python3 샘플 코드 #\n",
        "import requests\n",
        "from bs4 import BeautifulSoup\n",
        "\n",
        "url = 'http://apis.data.go.kr/1360000/VilageFcstInfoService_2.0/getUltraSrtNcst'\n",
        "params ={'serviceKey' : \"MIe3DGXhgZez8IKsUCzyozfnp9dI8s5CTUpKRvta07JqEs7uLA3tA58Io9TqmV0z8uF1g9rgeWsTDiuSqJs3MA==\", 'pageNo' : '1', 'numOfRows' : '1000', 'dataType' : 'XML', 'base_date' : '20230611', 'base_time' : '0600', 'nx' : '55', 'ny' : '127' }\n",
        "\n",
        "response = requests.get(url, params=params)\n",
        "\n",
        "bsObject = BeautifulSoup(response.content, \"lxml-xml\")"
      ],
      "metadata": {
        "id": "2GFz3fWuOT9e"
      },
      "execution_count": null,
      "outputs": []
    },
    {
      "cell_type": "code",
      "execution_count": null,
      "metadata": {
        "id": "W-80Pm61kGlm"
      },
      "outputs": [],
      "source": [
        "import requests\n",
        "import json\n",
        "import datetime\n",
        "\n",
        "vilage_weather_url = \"http://apis.data.go.kr/1360000/VilageFcstInfoService_2.0/getVilageFcst?\"\n",
        "\n",
        "service_key = \"MIe3DGXhgZez8IKsUCzyozfnp9dI8s5CTUpKRvta07JqEs7uLA3tA58Io9TqmV0z8uF1g9rgeWsTDiuSqJs3MA%3D%3D\"\n",
        "\n",
        "today = datetime.datetime.today()\n",
        "base_date = today.strftime(\"%Y%m%d\") # \"20200214\" == 기준 날짜\n",
        "base_time = \"0800\" # 날씨 값\n",
        "\n",
        "\n",
        "nx = \"60\"\n",
        "ny = \"128\"\n",
        "\n",
        "payload = \"serviceKey=\" + service_key + \"&\" +\\\n",
        "    \"dataType=json\" + \"&\" +\\\n",
        "    \"base_date=\" + base_date + \"&\" +\\\n",
        "    \"base_time=\" + base_time + \"&\" +\\\n",
        "    \"nx=\" + nx + \"&\" +\\\n",
        "    \"ny=\" + ny\n",
        "    \n",
        "# 값 요청\n",
        "res = requests.get(vilage_weather_url + payload)\n",
        "\n",
        "items = res.json().get('response').get('body').get('items')"
      ]
    },
    {
      "cell_type": "code",
      "source": [
        "data = dict()\n",
        "data['date'] = base_date\n",
        "\n",
        "weather_data = dict()\n",
        "for item in items['item']:\n",
        "    # 기온\n",
        "    if item['category'] == 'TMP':\n",
        "        weather_data['tmp'] = item['fcstValue']\n",
        "    \n",
        "    # 기상상태\n",
        "    if item['category'] == 'PTY':\n",
        "        \n",
        "        weather_code = item['fcstValue']\n",
        "        \n",
        "        if weather_code == '1':\n",
        "            weather_state = '비'\n",
        "        elif weather_code == '2':\n",
        "            weather_state = '비/눈'\n",
        "        elif weather_code == '3':\n",
        "            weather_state = '눈'\n",
        "        elif weather_code == '4':\n",
        "            weather_state = '소나기'\n",
        "        else:\n",
        "            weather_state = '없음'\n",
        "        \n",
        "        weather_data['code'] = weather_code\n",
        "        weather_data['state'] = weather_state\n",
        "\n",
        "data['weather'] = weather_data\n",
        "data['weather']"
      ],
      "metadata": {
        "colab": {
          "base_uri": "https://localhost:8080/"
        },
        "id": "Re1bqnlknICH",
        "outputId": "16352c49-0d7b-40af-8fda-877c34c666ab"
      },
      "execution_count": null,
      "outputs": [
        {
          "output_type": "execute_result",
          "data": {
            "text/plain": [
              "{'tmp': '20', 'code': '0', 'state': '없음'}"
            ]
          },
          "metadata": {},
          "execution_count": 5
        }
      ]
    },
    {
      "cell_type": "markdown",
      "source": [
        "## 아파트 매매"
      ],
      "metadata": {
        "id": "PTFVjM36oITm"
      }
    },
    {
      "cell_type": "code",
      "source": [
        "# Python3 샘플 코드 #\n",
        "\n",
        "import requests\n",
        "\n",
        "url = 'http://openapi.molit.go.kr:8081/OpenAPI_ToolInstallPackage/service/rest/RTMSOBJSvc/getRTMSDataSvcAptTrade'\n",
        "params ={'serviceKey' : 'MIe3DGXhgZez8IKsUCzyozfnp9dI8s5CTUpKRvta07JqEs7uLA3tA58Io9TqmV0z8uF1g9rgeWsTDiuSqJs3MA==', 'LAWD_CD' : '11110', 'DEAL_YMD' : '201512' }\n",
        "\n",
        "response = requests.get(url, params=params)\n",
        "print(response.content)\n",
        "bsObject = BeautifulSoup(response.content, \"lxml-xml\")"
      ],
      "metadata": {
        "colab": {
          "base_uri": "https://localhost:8080/"
        },
        "id": "7yXgZlpbPaMx",
        "outputId": "c0435645-e2d5-4639-8a1f-27b61b0c801a"
      },
      "execution_count": 38,
      "outputs": [
        {
          "output_type": "stream",
          "name": "stderr",
          "text": [
            "/usr/local/lib/python3.10/dist-packages/bs4/builder/__init__.py:545: XMLParsedAsHTMLWarning: It looks like you're parsing an XML document using an HTML parser. If this really is an HTML document (maybe it's XHTML?), you can ignore or filter this warning. If it's XML, you should know that using an XML parser will be more reliable. To parse this document as XML, make sure you have the lxml package installed, and pass the keyword argument `features=\"xml\"` into the BeautifulSoup constructor.\n",
            "  warnings.warn(\n"
          ]
        }
      ]
    },
    {
      "cell_type": "code",
      "source": [
        "bsObject.find_all('item')[0]"
      ],
      "metadata": {
        "colab": {
          "base_uri": "https://localhost:8080/"
        },
        "id": "wxnYhZPtT8aQ",
        "outputId": "a7073d74-1a29-44ce-8c90-ef01d0cca1f3"
      },
      "execution_count": 40,
      "outputs": [
        {
          "output_type": "execute_result",
          "data": {
            "text/plain": [
              "<item>&lt;거래금액&gt;      82,500<!--거래금액-->&lt;거래유형&gt; <!--거래유형-->&lt;건축년도&gt;2008<!--건축년도-->&lt;년&gt;2015<!--년-->&lt;법정동&gt; 사직동<!--법정동-->&lt;아파트&gt;광화문스페이스본(101동~105동)<!--아파트-->&lt;월&gt;12<!--월-->&lt;일&gt;10<!--일-->&lt;전용면적&gt;94.51<!--전용면적-->&lt;중개사소재지&gt; <!--중개사소재지-->&lt;지번&gt;9<!--지번-->&lt;지역코드&gt;11110<!--지역코드-->&lt;층&gt;11<!--층-->&lt;해제사유발생일&gt; <!--해제사유발생일-->&lt;해제여부&gt; <!--해제여부--></item>"
            ]
          },
          "metadata": {},
          "execution_count": 40
        }
      ]
    },
    {
      "cell_type": "code",
      "source": [
        "from urllib.request import urlopen  #1\n",
        "from bs4 import BeautifulSoup  #2\n",
        "\n",
        "date = 202201  #3 \n",
        "gu_code = 11305  #4\n",
        "service_key =  #5 \n",
        "\n",
        "url = f'http://openapi.molit.go.kr:8081/OpenAPI_ToolInstallPackage/service/rest/RTMSOBJSvc/'\\\n",
        "    f'getRTMSDataSvcAptRent?LAWD_CD={gu_code}&DEAL_YMD={date}&'\\\n",
        "    f'serviceKey={service_key}'  #6\n",
        "\n",
        "result = urlopen(url)  #7\n",
        "house = BeautifulSoup(result, 'lxml-xml')  #8\n",
        "te = house.find_all('item') "
      ],
      "metadata": {
        "id": "dXODMJFfn0wc"
      },
      "execution_count": null,
      "outputs": []
    },
    {
      "cell_type": "code",
      "source": [
        "datas = []  #1\n",
        "\n",
        "for i in range(len(te)):  #2\n",
        "    deposit = te[i].보증금액.string.strip()  \n",
        "    rent_fee = te[i].월세금액.string.strip()\n",
        "    built_yr = te[i].건축년도.string.strip()\n",
        "    dong_name = te[i].법정동.string.strip()\n",
        "    apt_name = te[i].아파트.string.strip()\n",
        "    size = te[i].전용면적.string.strip()\n",
        "    gu_code = te[i].지역코드.string.strip()\n",
        "    \n",
        "    data = [deposit, rent_fee, built_yr, dong_name, apt_name, size, gu_code]  #3\n",
        "    datas.append(data)  #4"
      ],
      "metadata": {
        "id": "Kq2ynN78sgAH",
        "colab": {
          "base_uri": "https://localhost:8080/",
          "height": 243
        },
        "outputId": "c3ab09ce-0680-4da3-97a1-a673b209184b"
      },
      "execution_count": 37,
      "outputs": [
        {
          "output_type": "error",
          "ename": "AttributeError",
          "evalue": "ignored",
          "traceback": [
            "\u001b[0;31m---------------------------------------------------------------------------\u001b[0m",
            "\u001b[0;31mAttributeError\u001b[0m                            Traceback (most recent call last)",
            "\u001b[0;32m<ipython-input-37-2b4465a56704>\u001b[0m in \u001b[0;36m<cell line: 3>\u001b[0;34m()\u001b[0m\n\u001b[1;32m      2\u001b[0m \u001b[0;34m\u001b[0m\u001b[0m\n\u001b[1;32m      3\u001b[0m \u001b[0;32mfor\u001b[0m \u001b[0mi\u001b[0m \u001b[0;32min\u001b[0m \u001b[0mrange\u001b[0m\u001b[0;34m(\u001b[0m\u001b[0mlen\u001b[0m\u001b[0;34m(\u001b[0m\u001b[0mte\u001b[0m\u001b[0;34m)\u001b[0m\u001b[0;34m)\u001b[0m\u001b[0;34m:\u001b[0m  \u001b[0;31m#2\u001b[0m\u001b[0;34m\u001b[0m\u001b[0;34m\u001b[0m\u001b[0m\n\u001b[0;32m----> 4\u001b[0;31m     \u001b[0mdeposit\u001b[0m \u001b[0;34m=\u001b[0m \u001b[0mte\u001b[0m\u001b[0;34m[\u001b[0m\u001b[0mi\u001b[0m\u001b[0;34m]\u001b[0m\u001b[0;34m.\u001b[0m\u001b[0m보증금액\u001b[0m\u001b[0;34m.\u001b[0m\u001b[0mstring\u001b[0m\u001b[0;34m.\u001b[0m\u001b[0mstrip\u001b[0m\u001b[0;34m(\u001b[0m\u001b[0;34m)\u001b[0m\u001b[0;34m\u001b[0m\u001b[0;34m\u001b[0m\u001b[0m\n\u001b[0m\u001b[1;32m      5\u001b[0m     \u001b[0mrent_fee\u001b[0m \u001b[0;34m=\u001b[0m \u001b[0mte\u001b[0m\u001b[0;34m[\u001b[0m\u001b[0mi\u001b[0m\u001b[0;34m]\u001b[0m\u001b[0;34m.\u001b[0m\u001b[0m월세금액\u001b[0m\u001b[0;34m.\u001b[0m\u001b[0mstring\u001b[0m\u001b[0;34m.\u001b[0m\u001b[0mstrip\u001b[0m\u001b[0;34m(\u001b[0m\u001b[0;34m)\u001b[0m\u001b[0;34m\u001b[0m\u001b[0;34m\u001b[0m\u001b[0m\n\u001b[1;32m      6\u001b[0m     \u001b[0mbuilt_yr\u001b[0m \u001b[0;34m=\u001b[0m \u001b[0mte\u001b[0m\u001b[0;34m[\u001b[0m\u001b[0mi\u001b[0m\u001b[0;34m]\u001b[0m\u001b[0;34m.\u001b[0m\u001b[0m건축년도\u001b[0m\u001b[0;34m.\u001b[0m\u001b[0mstring\u001b[0m\u001b[0;34m.\u001b[0m\u001b[0mstrip\u001b[0m\u001b[0;34m(\u001b[0m\u001b[0;34m)\u001b[0m\u001b[0;34m\u001b[0m\u001b[0;34m\u001b[0m\u001b[0m\n",
            "\u001b[0;31mAttributeError\u001b[0m: 'NoneType' object has no attribute 'string'"
          ]
        }
      ]
    },
    {
      "cell_type": "code",
      "source": [
        "df = pd.DataFrame(datas, columns=['deposit', 'rent_fee', 'built_yr', 'dong_name', 'apt_name', \n",
        "                                  'size', 'gu_code'])"
      ],
      "metadata": {
        "id": "XT2FO3cishvI"
      },
      "execution_count": null,
      "outputs": []
    }
  ]
}
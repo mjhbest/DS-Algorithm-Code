{
  "nbformat": 4,
  "nbformat_minor": 0,
  "metadata": {
    "colab": {
      "provenance": []
    },
    "kernelspec": {
      "name": "python3",
      "display_name": "Python 3"
    },
    "language_info": {
      "name": "python"
    }
  },
  "cells": [
    {
      "cell_type": "code",
      "execution_count": null,
      "metadata": {
        "id": "DYy7O0Uszl5_"
      },
      "outputs": [],
      "source": [
        "from urllib.request import urlopen\n",
        "from bs4 import BeautifulSoup\n",
        "\n",
        "html = urlopen(\"https://news.naver.com/\")\n",
        "\n",
        "bsObject = BeautifulSoup(html, \"html.parser\")\n",
        "\n",
        "#for link in bsObject.find_all('a'):\n",
        "#    print(link.text.strip(), link.get('href'))\n",
        "\n",
        "for link in bsObject.find_all('img'):\n",
        "    print(link.text.strip(), link.get('src'))"
      ]
    },
    {
      "cell_type": "code",
      "source": [
        "# Wikipedia 본문 스크래퍼\n",
        "from urllib.request import urlopen\n",
        "from bs4 import BeautifulSoup\n",
        "html = urlopen(\"https://en.wikipedia.org/wiki/Sociality\")\n",
        "bs = BeautifulSoup(html, \"html.parser\")\n",
        "\n",
        "body = bs.find('div',{'id':'bodyContent'}) #\n",
        "\n",
        "for p in body.find_all('p'):\n",
        "    print(p.text)\n",
        "\n",
        "for h in body.find_all('span',{'class':'mw-headline'}):\n",
        "    print(h.text)\n",
        "\n",
        "for element in body.find_all(['p','span']):\n",
        "    if element.get('class') == 'mw-headline':\n",
        "        pass\n",
        "    elif element.get('p') is None:\n",
        "        pass\n"
      ],
      "metadata": {
        "id": "l5v3IyAV4SnB"
      },
      "execution_count": null,
      "outputs": []
    },
    {
      "cell_type": "code",
      "source": [],
      "metadata": {
        "id": "kweOeuA447Zm"
      },
      "execution_count": null,
      "outputs": []
    }
  ]
}
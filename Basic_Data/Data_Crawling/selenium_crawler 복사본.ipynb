{
 "cells": [
  {
   "cell_type": "code",
   "execution_count": 1,
   "metadata": {},
   "outputs": [],
   "source": [
    "from selenium import webdriver\n",
    "from selenium.webdriver.chrome.options import Options\n",
    "from selenium.webdriver.chrome.service import Service\n",
    "\n",
    "options = Options()\n",
    "options.add_argument('--headless')  # Headless 모드로 실행할 경우 추가\n",
    "\n",
    "\n",
    "webdriver_service = Service(\n",
    "    '/Users/owen/Downloads/chromedriver_mac_arm64/chromedriver')\n",
    "driver = webdriver.Chrome(service=webdriver_service, options=options)\n",
    "# driver = webdriver.Chrome(\n",
    "#     '/Users/owen/Downloads/chromedriver_mac_arm64', options=options)"
   ]
  },
  {
   "cell_type": "code",
   "execution_count": 2,
   "metadata": {},
   "outputs": [],
   "source": [
    "# Google 검색 페이지 열기\n",
    "temp = driver.get('https://www.google.com')\n"
   ]
  },
  {
   "cell_type": "code",
   "execution_count": null,
   "metadata": {},
   "outputs": [],
   "source": [
    "# 검색어 입력\n",
    "search_box = driver.find_element('q')\n",
    "search_box.send_keys('Hello, World!')\n",
    "\n",
    "# 검색 버튼 클릭\n",
    "search_button = driver.find_element('btnK')\n",
    "search_button.click()\n",
    "\n",
    "# 결과 출력\n",
    "results = driver.find_elements(By.CSS_SELECTOR, 'h3')\n",
    "for result in results:\n",
    "    print(result.text)\n",
    "\n",
    "# 브라우저 종료\n",
    "driver.quit()\n"
   ]
  },
  {
   "cell_type": "code",
   "execution_count": 8,
   "metadata": {},
   "outputs": [
    {
     "name": "stdout",
     "output_type": "stream",
     "text": [
      "Hello, world! - 나무위키\n",
      "분류\n",
      "프로그래밍 언어/예제\n",
      "HQ9+\n",
      "Hello,world! - 나무위키\n",
      "\"Hello, World!\" 프로그램 - 위키백과, 우리 모두의 백과사전\n",
      "“Hello, world!”로 알아보는 프로그래밍 언어 - 인프런 | 스토리\n",
      "3.3 Hello, world! 출력하기 - C 언어 코딩 도장\n",
      "12개 언어의 Hello World 프로그램 - 스무디코딩\n",
      "Alan Walker & Torine - Hello World (한국어,가사,해석,lyrics)\n",
      "Hello world - NAVER D2\n",
      "이미지\n",
      "설명\n"
     ]
    }
   ],
   "source": [
    "from selenium.webdriver.common.by import By\n",
    "# 검색어 입력\n",
    "search_box = driver.find_element(By.NAME, 'q')\n",
    "search_box.send_keys('Hello, World!')\n",
    "\n",
    "# 검색 버튼 클릭\n",
    "search_button = driver.find_element(By.NAME, 'btnK')\n",
    "search_button.click()\n",
    "\n",
    "# 결과 출력\n",
    "results = driver.find_elements(By.CSS_SELECTOR, 'h3')\n",
    "for result in results:\n",
    "    print(result.text)\n",
    "\n",
    "# 브라우저 종료\n",
    "driver.quit()\n"
   ]
  },
  {
   "cell_type": "code",
   "execution_count": null,
   "metadata": {},
   "outputs": [],
   "source": []
  }
 ],
 "metadata": {
  "kernelspec": {
   "display_name": "Python 3.8.16 ('python3.8')",
   "language": "python",
   "name": "python3"
  },
  "language_info": {
   "codemirror_mode": {
    "name": "ipython",
    "version": 3
   },
   "file_extension": ".py",
   "mimetype": "text/x-python",
   "name": "python",
   "nbconvert_exporter": "python",
   "pygments_lexer": "ipython3",
   "version": "3.8.16"
  },
  "orig_nbformat": 4,
  "vscode": {
   "interpreter": {
    "hash": "fdac58107acb911151aabe9ff04f88946fb1af0a05b1018553250b76696787f9"
   }
  }
 },
 "nbformat": 4,
 "nbformat_minor": 2
}

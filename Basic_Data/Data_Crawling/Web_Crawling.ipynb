{
  "cells": [
    {
      "cell_type": "code",
      "execution_count": null,
      "metadata": {
        "colab": {
          "base_uri": "https://localhost:8080/"
        },
        "id": "sXeTSTL3SZHI",
        "outputId": "7e4b2e87-43d0-49d1-f304-101af0228dab"
      },
      "outputs": [
        {
          "name": "stdout",
          "output_type": "stream",
          "text": [
            "Looking in indexes: https://pypi.org/simple, https://us-python.pkg.dev/colab-wheels/public/simple/\n",
            "Requirement already satisfied: beautifulsoup4 in /usr/local/lib/python3.10/dist-packages (4.11.2)\n",
            "Requirement already satisfied: soupsieve>1.2 in /usr/local/lib/python3.10/dist-packages (from beautifulsoup4) (2.4.1)\n"
          ]
        }
      ],
      "source": [
        "pip install beautifulsoup4"
      ]
    },
    {
      "cell_type": "code",
      "execution_count": null,
      "metadata": {
        "colab": {
          "base_uri": "https://localhost:8080/"
        },
        "id": "55PzHPVCSfym",
        "outputId": "743e5c6f-02ce-482c-d44f-d6bb1e54f18d"
      },
      "outputs": [
        {
          "name": "stdout",
          "output_type": "stream",
          "text": [
            "Looking in indexes: https://pypi.org/simple, https://us-python.pkg.dev/colab-wheels/public/simple/\n",
            "\u001b[31mERROR: Could not find a version that satisfies the requirement request (from versions: none)\u001b[0m\u001b[31m\n",
            "\u001b[0m\u001b[31mERROR: No matching distribution found for request\u001b[0m\u001b[31m\n",
            "\u001b[0m"
          ]
        }
      ],
      "source": [
        "pip install requests"
      ]
    },
    {
      "cell_type": "markdown",
      "metadata": {
        "id": "mkJ-G8tMSgZf"
      },
      "source": [
        "## 복습"
      ]
    },
    {
      "cell_type": "code",
      "execution_count": null,
      "metadata": {
        "colab": {
          "base_uri": "https://localhost:8080/"
        },
        "id": "MLtV594mSskB",
        "outputId": "e317a477-5cf0-4419-da4c-28a9e129b4e1"
      },
      "outputs": [
        {
          "name": "stdout",
          "output_type": "stream",
          "text": [
            "<h1 id=\"title\">[1]크롤링이란?</h1>\n",
            "[1]크롤링이란?\n",
            "[1]크롤링이란?\n"
          ]
        }
      ],
      "source": [
        "# Beutifulsout으로 Parsing하기\n",
        "from bs4 import BeautifulSoup\n",
        "\n",
        "html = \"\"\"\n",
        "<html>\n",
        "    <body>\n",
        "        <h1 id='title'>[1]크롤링이란?</h1>\n",
        "        <p class='cssstyle'>웹페이지에서 필요한 데이터를 추출하는 것</p>\n",
        "        <p id='body' align='center'>파이썬을 중심으로 다양한 웹크롤링 기술 발달</p>\n",
        "    </body>\n",
        "</html>\n",
        "\"\"\"\n",
        "\n",
        "soup = BeautifulSoup(html, \"html.parser\")\n",
        "title_data = soup.find('h1')# 태그로 검색 방법\n",
        "print(title_data)\n",
        "print(title_data.string)\n",
        "print(title_data.get_text())"
      ]
    },
    {
      "cell_type": "code",
      "execution_count": null,
      "metadata": {
        "colab": {
          "base_uri": "https://localhost:8080/"
        },
        "id": "VECVbnMnS4cm",
        "outputId": "08c0642c-0eca-4484-f06f-563ce5541e31"
      },
      "outputs": [
        {
          "name": "stdout",
          "output_type": "stream",
          "text": [
            "[<h1 class=\"logo\"><a class=\"link\" href=\"https://www.naver.com\" onclick=\"return goOtherCR(this, 'a=sta.naver&amp;r=&amp;i=&amp;u='+urlencode(this.href));\"><i class=\"spnew ico_logo\">NAVER</i></a></h1>, <h1 class=\"blind\">서초AI 통합검색 결과</h1>]\n"
          ]
        }
      ],
      "source": [
        "# 데이터 요청하기\n",
        "import requests\n",
        "from bs4 import BeautifulSoup\n",
        "\n",
        "url = 'https://search.naver.com/search.naver?sm=tab_hty.top&where=nexearch&query=%EC%84%9C%EC%B4%88AI&oquery=%EC%84%9C%EC%B4%88+%EB%A8%80&tqi=ic8RWdp0YidssKroiJKsssssthN-042430'\n",
        "\n",
        "response = requests.get(url)\n",
        "\n",
        "if response.status_code == 200:\n",
        "    html = response.text\n",
        "    soup = BeautifulSoup(html, 'html.parser')\n",
        "    print(soup.find_all('h1'))\n",
        "else : \n",
        "    print(response.status_code)"
      ]
    },
    {
      "cell_type": "code",
      "execution_count": null,
      "metadata": {
        "colab": {
          "base_uri": "https://localhost:8080/"
        },
        "id": "r4pd9VumS92F",
        "outputId": "5f8d5754-fbba-4de8-c8ce-46ca2de12280"
      },
      "outputs": [
        {
          "name": "stdout",
          "output_type": "stream",
          "text": [
            "파이썬 공부중 \\n 질문드려요 ㅠㅠ\n",
            "파이썬 질문\n",
            "블렌더 파이썬\n",
            "파이썬 숙제 도와주세요 ㅠㅠ (채택 100%)\n",
            "파이썬 알려주세요\n",
            "파이썬 과제 도와주세요\n",
            "파이썬 질문\n",
            "pc파이썬 아두이노 시리얼통신 질문좀... \n",
            "파이썬 파일 생성\n",
            "파이썬 기초는 어떻게 공부하는게 좋나요?\n"
          ]
        }
      ],
      "source": [
        "# 원하는 데이터 고르기\n",
        "import requests\n",
        "from bs4 import BeautifulSoup\n",
        "\n",
        "url = 'https://kin.naver.com/search/list.nhn?query=%ED%8C%8C%EC%9D%B4%EC%8D%AC'\n",
        "\n",
        "response = requests.get(url)\n",
        "\n",
        "if response.status_code == 200:\n",
        "    html = response.text\n",
        "    soup = BeautifulSoup(html, 'html.parser')\n",
        "    \n",
        "    ul = soup.select_one('ul.basic1')\n",
        "    titles = ul.select('li > dl > dt > a')\n",
        "    for title in titles:\n",
        "        print(title.get_text())\n",
        "        # print(title)\n",
        "else : \n",
        "    print(response.status_code)"
      ]
    },
    {
      "cell_type": "markdown",
      "metadata": {
        "id": "S0mjBV4STCo_"
      },
      "source": [
        "## 숙제"
      ]
    },
    {
      "cell_type": "code",
      "execution_count": null,
      "metadata": {
        "colab": {
          "base_uri": "https://localhost:8080/"
        },
        "id": "E-ZgsJ8aS_vA",
        "outputId": "3f0cb025-d68f-4091-c9bd-7b763af4425f"
      },
      "outputs": [
        {
          "name": "stdout",
          "output_type": "stream",
          "text": [
            "38\n"
          ]
        }
      ],
      "source": [
        "import requests\n",
        "from bs4 import BeautifulSoup\n",
        "\n",
        "\n",
        "res = requests.get('http://media.daum.net/digital/')\n",
        "soup = BeautifulSoup(res.content, 'html.parser')\n",
        "\n",
        "\n",
        "# find_all() 메서드를 사용해서 태그와 클래스이름으로 링크가 걸려있는 기사 타이틀을 가져오기\n",
        "link_title = soup.find_all('a',class_='link_txt')\n",
        "print(len(link_title))\n",
        "# # 코드 작성\n",
        "# for num in range(len(link_title)):\n",
        "#     print(link_title[num].get_text().strip())"
      ]
    },
    {
      "cell_type": "markdown",
      "metadata": {
        "id": "prt2U3z1TMhg"
      },
      "source": [
        "## URLOPEN"
      ]
    },
    {
      "cell_type": "code",
      "execution_count": null,
      "metadata": {
        "id": "6ncAq-Q2TM40"
      },
      "outputs": [],
      "source": [
        "# 모든 데이터 가져오기\n",
        "from urllib.request import urlopen\n",
        "from bs4 import BeautifulSoup\n",
        "\n",
        "html = urlopen(\"http://www.naver.com\")  \n",
        "bsObject = BeautifulSoup(html, \"html.parser\") \n",
        "\n",
        "print(bsObject) # 웹 문서 전체가 출력됩니다. "
      ]
    },
    {
      "cell_type": "code",
      "execution_count": null,
      "metadata": {
        "colab": {
          "base_uri": "https://localhost:8080/"
        },
        "id": "EmmHO9FiTxbI",
        "outputId": "545dcd8b-2586-46a1-be3e-8e05e93d551b"
      },
      "outputs": [
        {
          "name": "stdout",
          "output_type": "stream",
          "text": [
            "['jump-link']\n",
            "['current_branch', 'selected']\n",
            "['jump-link']\n",
            "['donate-button']\n",
            "['jump-to-menu']\n",
            "['action-trigger']\n",
            "['text-shrink']\n",
            "['text-grow']\n",
            "['text-reset']\n",
            "['action-trigger']\n",
            "['current_item', 'selected', 'selected']\n",
            "[]\n",
            "[]\n",
            "[]\n",
            "[]\n",
            "[]\n",
            "[]\n",
            "['readmore']\n",
            "['button']\n",
            "['button']\n",
            "['jump-link']\n",
            "['jump-link']\n"
          ]
        }
      ],
      "source": [
        "from urllib.request import urlopen\n",
        "from bs4 import BeautifulSoup\n",
        "\n",
        "html = urlopen(\"https://www.python.org/about\")\n",
        "bsObject = BeautifulSoup(html, \"html.parser\")\n",
        "\n",
        "\n",
        "for a in bsObject.find_all('a'):\n",
        "    if a.get('class') is not None:\n",
        "        print(a.get('class'))\n",
        "    # print()\n"
      ]
    },
    {
      "cell_type": "markdown",
      "metadata": {
        "id": "155FTQDST1eU"
      },
      "source": [
        "## 자세한 Find 하기"
      ]
    },
    {
      "cell_type": "code",
      "execution_count": 6,
      "metadata": {
        "id": "TIza7-zJxHkD"
      },
      "outputs": [],
      "source": [
        "import requests\n",
        "from bs4 import BeautifulSoup\n",
        "from urllib.request import urlopen"
      ]
    },
    {
      "cell_type": "code",
      "execution_count": 7,
      "metadata": {
        "id": "M8yPFp2fT0xk"
      },
      "outputs": [],
      "source": [
        "param = {\n",
        "    \"name\" : \"sm\",\n",
        "}"
      ]
    },
    {
      "cell_type": "code",
      "execution_count": 8,
      "metadata": {
        "id": "4UtsVS60plkv"
      },
      "outputs": [],
      "source": [
        "html = urlopen(\"https://www.naver.com\")\n",
        "bsObject = BeautifulSoup(html, \"html.parser\")"
      ]
    },
    {
      "cell_type": "code",
      "execution_count": 9,
      "metadata": {
        "colab": {
          "base_uri": "https://localhost:8080/"
        },
        "id": "HAkYsjkrUAy-",
        "outputId": "b6b80556-8079-4949-881e-2279f3e5d07f"
      },
      "outputs": [
        {
          "name": "stdout",
          "output_type": "stream",
          "text": [
            "<input id=\"sm\" name=\"sm\" type=\"hidden\" value=\"top_hty\"/>\n"
          ]
        }
      ],
      "source": [
        "viewport = bsObject.find(\"input\",param)\n",
        "print(viewport)"
      ]
    },
    {
      "cell_type": "code",
      "execution_count": 11,
      "metadata": {
        "colab": {
          "base_uri": "https://localhost:8080/"
        },
        "id": "sL9vf9_8UG9X",
        "outputId": "c21cc9d2-55ea-460c-94ca-24959bdd7ee9"
      },
      "outputs": [
        {
          "name": "stdout",
          "output_type": "stream",
          "text": [
            "None\n"
          ]
        }
      ],
      "source": [
        "print (bsObject.head.find(\"meta\", param))"
      ]
    },
    {
      "cell_type": "markdown",
      "metadata": {
        "id": "OM14k-D8UQgq"
      },
      "source": [
        "연습 #1"
      ]
    },
    {
      "cell_type": "code",
      "execution_count": 15,
      "metadata": {
        "colab": {
          "base_uri": "https://localhost:8080/"
        },
        "id": "u8QLGBbwUIqW",
        "outputId": "90f7d286-f5fe-4f5a-cf98-ffea717317a8"
      },
      "outputs": [
        {
          "name": "stdout",
          "output_type": "stream",
          "text": [
            "\n",
            "https://www.daum.net/\n",
            "뉴스\n",
            "https://news.daum.net/\n",
            "연예\n",
            "https://entertain.daum.net\n",
            "스포츠\n",
            "https://sports.daum.net\n",
            "팩트체크\n",
            "https://focus.daum.net/ch/news/factcheck\n",
            "\n",
            "https://v.daum.net/v/20230611133901861\n",
            "“파병 간 아빠 목소리 들려요”…오디오 콘텐츠 노린 KT의 ‘승부수’\n",
            "https://v.daum.net/v/20230611133901861\n",
            "\n",
            "https://v.daum.net/v/20230611120009609\n",
            "티스토리 블로그에 자체광고 삽입, 약될까 독될까\n",
            "https://v.daum.net/v/20230611120009609\n",
            "\n",
            "https://v.daum.net/v/20230611100413011\n",
            "美·日은 축구장·번화가가 ‘5G 핫스팟’ [뉴스 인사이드-‘꿈의 5G 주파수’ 초유의 회수사태]\n",
            "https://v.daum.net/v/20230611100413011\n",
            "\n",
            "https://v.daum.net/v/20230611105509684\n",
            "제2의 솔라윈즈 사태 막는다…SBOM 생성 법제화 추진\n",
            "https://v.daum.net/v/20230611105509684\n",
            "\n",
            "https://v.daum.net/v/20230611110112773\n",
            "\"中 다 따라왔다\"...'전통강자' 韓 TV 새 전략은 \"프리미엄\"\n",
            "https://v.daum.net/v/20230611110112773\n",
            "\n",
            "https://v.daum.net/v/20230611090912212\n",
            "업계 “수요 없어” 정부 “투자부터”… ‘더 빠른 5G’ 사업화 원점 [뉴스 인사이드-‘꿈의 5G 주파수’ 초유의 회수사태]\n",
            "https://v.daum.net/v/20230611090912212\n",
            "댓글 바꾼 네이버·다음…정치권 의식·풍선효과 지적도\n",
            "https://v.daum.net/v/20230611091713324\n",
            "챗GPT와 만난 로봇[테크트렌드]\n",
            "https://v.daum.net/v/20230611060101056\n",
            "광고 붙이고, 콘텐츠 빼고… OTT 사업모델 한계 봉착했나\n",
            "https://v.daum.net/v/20230611093320555\n",
            "[지금은 기후위기] 캐나다 최악 산불 두고…Blame Canada vs  Don't\n",
            "https://v.daum.net/v/20230611093159524\n",
            "성장하며 ‘바깥 소리’ 귀에 쏙쏙…10대 반항의 이유\n",
            "https://v.daum.net/v/20230611090704187\n",
            "뿌연 물속에서 ‘더듬더듬’ 수색 안녕…‘인공지능 잠수 로봇’ 등장\n",
            "https://v.daum.net/v/20230611090201084\n",
            "노골적 견제?…구글, 네이버 '초거대AI 공개 코앞 韓정부와 AI축제[사이다IT]\n",
            "https://v.daum.net/v/20230611090100047\n",
            "\"AI가 삼킨 내 정보, 안전할까\"…챗GPT 시대 프라이버시 종합대책 내달 나온다\n",
            "https://v.daum.net/v/20230611090031032\n",
            "[르포] 국립중앙박물관서 LG 투명 OLED로 재탄생한 신라시대 토기… 외국인도 “이런 기술 처음 본다” 감탄\n",
            "https://v.daum.net/v/20230611084530864\n",
            "러시아 은행가 \"美 달러 지배력 종말 임박\"\n",
            "https://v.daum.net/v/20230611081008582\n",
            "코스피\n",
            "\n",
            "\n",
            "2,641.16\n",
            "\n",
            "\n",
            "\n",
            "전일비상승\n",
            "                                             30.31\n",
            "                                    \n",
            "\n",
            "등락률(1.16%)\n",
            "https://finance.daum.net/domestic/kospi\n",
            "코스닥\n",
            "\n",
            "883.71\n",
            "\n",
            "\n",
            "전일비하락\n",
            "                                             7.58\n",
            "                                    \n",
            "\n",
            "등락률(0.87%)\n",
            "https://finance.daum.net/domestic/kosdaq\n",
            "\n",
            "https://v.daum.net/v/20230611115104496\n",
            "전기차 오래된 배터리, 에너지저장시스템으로\n",
            "https://v.daum.net/v/20230611115104496\n",
            "\n",
            "https://v.daum.net/v/20230611113012202\n",
            "챗GPT의 아버지 방한…갤럭시 워치 '삼성페이' 탑재 준비도\n",
            "https://v.daum.net/v/20230611113012202\n",
            "\n",
            "https://v.daum.net/v/20230611100103909\n",
            "'챗GPT 아버지' 샘 올트먼이 집중하는 두 가지 기술\n",
            "https://v.daum.net/v/20230611100103909\n",
            "\n",
            "https://v.daum.net/v/20230611090100047\n",
            "노골적 견제?…구글, 네이버 '초거대AI 공개 코앞 韓정부와 AI축제\n",
            "https://v.daum.net/v/20230611090100047\n",
            "\n",
            "https://v.daum.net/v/20230610152700605\n",
            "‘팝스타’ 브루노 마스가 뉴진스 하입 보이 부른 사연은\n",
            "https://v.daum.net/v/20230610152700605\n",
            "\n",
            "https://v.daum.net/v/20230610100209803\n",
            "'영업 인센티브'로 통신 3사 의존도 높아지는 알뜰폰\n",
            "https://v.daum.net/v/20230610100209803\n",
            "\n",
            "https://v.daum.net/v/20230610070210157\n",
            "카카오·쏘카만 살아남나? 치킨게임 돌입한 모빌리티업계\n",
            "https://v.daum.net/v/20230610070210157\n",
            "\n",
            "https://v.daum.net/v/20230610002224464\n",
            "이세돌·커제 꺾은 ‘바둑의 신’ AI, 아마에게 15전14패 이유\n",
            "https://v.daum.net/v/20230610002224464\n",
            "\n",
            "https://v.daum.net/v/20230609180759553\n",
            "\"병원 대기 중인지도 잊었어요\"…LGU+ 아이들나라 놀이터 가보니\n",
            "https://v.daum.net/v/20230609180759553\n",
            "팩트체크\n",
            "https://focus.daum.net/ch/news/factcheck\n",
            "공지사항\n",
            "https://magazine.daum.net/daumnews_notice\n",
            "뉴스제휴\n",
            "https://with.kakao.com/media\n",
            "비즈니스\n",
            "https://business.kakao.com\n",
            "권리침해신고\n",
            "https://cs.daum.net/redbell/top.html\n"
          ]
        }
      ],
      "source": [
        "# 모든 링크의 텍스트 & 주소 가져오기\n",
        "# tag :a & href를 찾아보자\n",
        "\n",
        "from urllib.request import urlopen\n",
        "from bs4 import BeautifulSoup\n",
        "\n",
        "html = urlopen(\"https://news.daum.net/digital#2\")\n",
        "bsObject = BeautifulSoup(html, \"html.parser\")\n",
        "\n",
        "\n",
        "atags = bsObject.find_all('a')\n",
        "\n",
        "for a in atags:\n",
        "    href = a.get('href')\n",
        "    if 'https' in href:\n",
        "        print(a.text.strip())\n",
        "        print(a.get('href'))\n",
        "    else:\n",
        "        continue"
      ]
    },
    {
      "cell_type": "markdown",
      "metadata": {
        "id": "csBsA7S7Vr51"
      },
      "source": [
        "연습 #2"
      ]
    },
    {
      "cell_type": "code",
      "execution_count": 23,
      "metadata": {
        "colab": {
          "base_uri": "https://localhost:8080/"
        },
        "id": "Qk9Jg0fgUcnt",
        "outputId": "c034e84a-0888-4064-fca1-1c61a69c76e9"
      },
      "outputs": [
        {
          "name": "stdout",
          "output_type": "stream",
          "text": [
            "1 퀸카 (Queencard)\n",
            "2 I AM\n",
            "3 Spicy\n",
            "4 이브, 프시케 그리고 푸른 수염의 아내\n",
            "5 UNFORGIVEN (feat. Nile Rodgers)\n",
            "6 Kitsch\n",
            "7 Cupid\n",
            "8 Hype Boy\n",
            "9 꽃\n",
            "10 Ditto\n",
            "11 손오공\n",
            "12 After LIKE\n",
            "13 Thirsty\n",
            "14 KNOCK\n",
            "15 OMG\n",
            "16 Attention\n",
            "17 Dangerously\n",
            "18 I Don’t Think That I Like Her\n",
            "19 LOVE DIVE\n",
            "20 Teddy Bear\n",
            "21 사건의 지평선\n",
            "22 Allergy\n",
            "23 파이팅 해야지 (Feat. 이영지)\n",
            "24 ANTIFRAGILE\n",
            "25 헤어지자 말해요\n",
            "26 건물 사이에 피어난 장미 (Rose Blossom)\n",
            "27 사랑인가 봐\n",
            "28 When I Get Old\n",
            "29 TOMBOY\n",
            "30 Shut Down\n",
            "31 That’s Not How This Works (feat. Dan + Shay)\n",
            "32 Love Me Like This\n",
            "33 빛이 나는 너에게\n",
            "34 한 페이지가 될 수 있게\n",
            "35 오르트구름\n",
            "36 심(心)\n",
            "37 ELEVEN\n",
            "38 INVU\n",
            "39 Take Two\n",
            "40 Cupid (Twin Ver.)\n",
            "41 FEARLESS\n",
            "42 잠깐 시간 될까\n",
            "43 CHRISTIAN\n",
            "44 Pink Venom\n",
            "45 Dynamite\n",
            "46 That's Hilarious\n",
            "47 모든 날, 모든 순간 (Every day, Every Moment)\n",
            "48 주저하는 연인들을 위해\n",
            "49 찬란한 하루\n",
            "50 정이라고 하자 (Feat. 10CM)\n",
            "51 물론\n",
            "52 사실말야내가말야그게그러니까말이야\n",
            "53 STAY\n",
            "54 한강에서 (Feat. BIG Naughty)\n",
            "55 나의 바람 (Wind And Wish)\n",
            "56 너의 모든 순간\n",
            "57 Salty & Sweet\n",
            "58 그라데이션\n",
            "59 다정히 내 이름을 부르면\n",
            "60 Off My Face\n",
            "61 Heaven(2023)\n",
            "62 Nxde\n",
            "63 사랑은 늘 도망가\n",
            "64 WHEN I MOVE\n",
            "65 Cookie\n",
            "66 부동의 첫사랑\n",
            "67 Dreamers [Music from the FIFA World Cup Qatar 2022 Official Soundtrack] (feat. FIFA Sound)\n",
            "68 Sacrifice (Eat Me Up)\n",
            "69 VIBE (feat. Jimin of BTS)\n",
            "70 취중고백\n",
            "71 새삥 (Prod. ZICO) (Feat. 호미들)\n",
            "72 Candy\n",
            "73 Poppy (Korean Ver.)\n",
            "74 그때 그 순간 그대로 (그그그)\n",
            "75 도깨비불 (Illusion)\n",
            "76 NOT SORRY (Feat. pH-1) (Prod. by Slom)\n",
            "77 Nostalgia\n",
            "78 나의 X에게\n",
            "79 드라마\n",
            "80 FRIEND THE END\n",
            "81 Left and Right (Feat. Jung Kook of BTS)\n",
            "82 봄여름가을겨울 (Still Life)\n",
            "83 strawberry moon\n",
            "84 Candy (Feat. Zion.T)\n",
            "85 사랑..그게 뭔데\n",
            "86 딱 10CM만\n",
            "87 Monologue\n",
            "88 해요 (2022)\n",
            "89 Say I Love You\n",
            "90 Feel My Rhythm\n",
            "91 LOVE me\n",
            "92 특\n",
            "93 Rush Hour (Feat. j-hope of BTS)\n",
            "94 Unholy\n",
            "95 Butter\n",
            "96 내가 아니라도\n",
            "97 밤이 무서워요 (Lonely Night)\n",
            "98 Perfume\n",
            "99 Permission to Dance\n",
            "100 사랑의 바보\n"
          ]
        }
      ],
      "source": [
        "## https://music.bugs.co.kr/chart?wl_ref=M_left_02_01 : 다음 링크에서 음악 차트를 출력해보자\n",
        "from urllib.request import urlopen\n",
        "from bs4 import BeautifulSoup\n",
        "url = urlopen('https://music.bugs.co.kr/chart?wl_ref=M_left_02_01')\n",
        "soup = BeautifulSoup(url.read(), 'html.parser')\n",
        "\n",
        "# td 태그에 check라는 class가 있는 td 태그를 모두 가져온다.\n",
        "param = {\n",
        "    'class' : 'check'\n",
        "}\n",
        "musics = soup.find_all('td',param)\n",
        "\n",
        "# # musics의 각 태그들에 대해서 \n",
        "for i, music in enumerate(musics):\n",
        "    # input 태그안에 title 속성값을 parsing한다. \n",
        "    detail = music.input\n",
        "    title = detail.get('title')\n",
        "    print(i+1,title)"
      ]
    },
    {
      "cell_type": "code",
      "execution_count": null,
      "metadata": {
        "id": "2L4PPEmjzeSq"
      },
      "outputs": [],
      "source": [
        "## https://music.bugs.co.kr/chart?wl_ref=M_left_02_01 : 다음 링크에서 음악 차트를 출력해보자\n",
        "from urllib.request import urlopen\n",
        "from bs4 import BeautifulSoup\n",
        "url = urlopen('https://music.bugs.co.kr/chart?wl_ref=M_left_02_01')\n",
        "soup = BeautifulSoup(url.read(), 'html.parser')\n",
        "\n",
        "# td 태그에 check라는 class가 있는 td 태그를 모두 가져온다.\n",
        "param = {\n",
        "    'type' : 'checkbox',\n",
        "    'disc_id' : \"1\"\n",
        "}\n",
        "musics = soup.find_all('input',param)\n",
        "\n",
        "# # musics의 각 태그들에 대해서 \n",
        "for i, music in enumerate(musics):\n",
        "    # input 태그안에 title 속성값을 parsing한다. \n",
        "    # detail = music.input\n",
        "    title = music.get('title')\n",
        "    print(i+1,title)"
      ]
    }
  ],
  "metadata": {
    "colab": {
      "provenance": []
    },
    "kernelspec": {
      "display_name": "Python 3",
      "name": "python3"
    },
    "language_info": {
      "name": "python"
    }
  },
  "nbformat": 4,
  "nbformat_minor": 0
}

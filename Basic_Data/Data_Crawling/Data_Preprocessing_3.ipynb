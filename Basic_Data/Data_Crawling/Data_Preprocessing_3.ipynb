{
  "nbformat": 4,
  "nbformat_minor": 0,
  "metadata": {
    "colab": {
      "provenance": []
    },
    "kernelspec": {
      "name": "python3",
      "display_name": "Python 3"
    },
    "language_info": {
      "name": "python"
    }
  },
  "cells": [
    {
      "cell_type": "code",
      "execution_count": 5,
      "metadata": {
        "id": "2fE9Q9B4SY0Z"
      },
      "outputs": [],
      "source": [
        "## 시계열 데이터\n",
        "import pandas as pd\n",
        "df = pd.read_csv(\"/content/stock-data.csv\")\n",
        "df.head()\n",
        "df['timestamp_Date'] = pd.to_datetime(df['Date'])\n",
        "\n",
        "# print(df.Date.tolist()[0] - df.Date.tolist()[1])\n",
        "print(df.timestamp_Date.tolist()[0] - df.timestamp_Date.tolist()[1])\n",
        "\n"
      ]
    },
    {
      "cell_type": "code",
      "source": [
        "# 시간 데이터를 만들고 시작일 ~ 종료일\n",
        "pd.date_range(start = '2020-01-01',end='2023-01-01',freq = 'MS')"
      ],
      "metadata": {
        "colab": {
          "base_uri": "https://localhost:8080/"
        },
        "id": "QnJBv4yPo3-J",
        "outputId": "763c3079-6556-45b5-9ad6-d1c74f3ba6ac"
      },
      "execution_count": 16,
      "outputs": [
        {
          "output_type": "execute_result",
          "data": {
            "text/plain": [
              "DatetimeIndex(['2020-01-01', '2020-02-01', '2020-03-01', '2020-04-01',\n",
              "               '2020-05-01', '2020-06-01', '2020-07-01', '2020-08-01',\n",
              "               '2020-09-01', '2020-10-01', '2020-11-01', '2020-12-01',\n",
              "               '2021-01-01', '2021-02-01', '2021-03-01', '2021-04-01',\n",
              "               '2021-05-01', '2021-06-01', '2021-07-01', '2021-08-01',\n",
              "               '2021-09-01', '2021-10-01', '2021-11-01', '2021-12-01',\n",
              "               '2022-01-01', '2022-02-01', '2022-03-01', '2022-04-01',\n",
              "               '2022-05-01', '2022-06-01', '2022-07-01', '2022-08-01',\n",
              "               '2022-09-01', '2022-10-01', '2022-11-01', '2022-12-01',\n",
              "               '2023-01-01'],\n",
              "              dtype='datetime64[ns]', freq='MS')"
            ]
          },
          "metadata": {},
          "execution_count": 16
        }
      ]
    },
    {
      "cell_type": "code",
      "source": [
        "## Concat\n",
        "import pandas as pd\n",
        "\n",
        "df1 = pd.DataFrame({'a':['a0','a1','a2','a3'],\n",
        "                   'b':['b0','b1','b2','b3'],\n",
        "                   'c':['c0','c1','c2','c3']},\n",
        "                  index = [0,1,2,3])\n",
        "\n",
        "df2 = pd.DataFrame({'a':['a2','a3','a4','a5'],\n",
        "                   'b':['b2','b3','b4','b5'],\n",
        "                   'c':['c2','c3','c4','c5'],\n",
        "                   'd':['d2','d3','d4','d5']},\n",
        "                   index = [2,3,4,5])\n",
        "\n",
        "print(df1, '\\n')\n",
        "print(df2)\n",
        "\n",
        "# Concat : 이어붙이기\n",
        "concat_df = pd.concat([df1,df2],ignore_index=True)\n",
        "concat_df = pd.concat([df1,df2],axis=1)\n",
        "concat_df = pd.concat([df1,df2],axis=1, join='inner')\n",
        "concat_df"
      ],
      "metadata": {
        "id": "GsBqORcKShth",
        "colab": {
          "base_uri": "https://localhost:8080/",
          "height": 303
        },
        "outputId": "149ff682-e8da-4ca6-a3a3-1a4f7cb0af51"
      },
      "execution_count": 32,
      "outputs": [
        {
          "output_type": "stream",
          "name": "stdout",
          "text": [
            "    a   b   c\n",
            "0  a0  b0  c0\n",
            "1  a1  b1  c1\n",
            "2  a2  b2  c2\n",
            "3  a3  b3  c3 \n",
            "\n",
            "    a   b   c   d\n",
            "2  a2  b2  c2  d2\n",
            "3  a3  b3  c3  d3\n",
            "4  a4  b4  c4  d4\n",
            "5  a5  b5  c5  d5\n"
          ]
        },
        {
          "output_type": "execute_result",
          "data": {
            "text/plain": [
              "    a   b   c   a   b   c   d\n",
              "2  a2  b2  c2  a2  b2  c2  d2\n",
              "3  a3  b3  c3  a3  b3  c3  d3"
            ],
            "text/html": [
              "\n",
              "  <div id=\"df-477e0724-65b3-477b-9ed5-778ec3c205b2\">\n",
              "    <div class=\"colab-df-container\">\n",
              "      <div>\n",
              "<style scoped>\n",
              "    .dataframe tbody tr th:only-of-type {\n",
              "        vertical-align: middle;\n",
              "    }\n",
              "\n",
              "    .dataframe tbody tr th {\n",
              "        vertical-align: top;\n",
              "    }\n",
              "\n",
              "    .dataframe thead th {\n",
              "        text-align: right;\n",
              "    }\n",
              "</style>\n",
              "<table border=\"1\" class=\"dataframe\">\n",
              "  <thead>\n",
              "    <tr style=\"text-align: right;\">\n",
              "      <th></th>\n",
              "      <th>a</th>\n",
              "      <th>b</th>\n",
              "      <th>c</th>\n",
              "      <th>a</th>\n",
              "      <th>b</th>\n",
              "      <th>c</th>\n",
              "      <th>d</th>\n",
              "    </tr>\n",
              "  </thead>\n",
              "  <tbody>\n",
              "    <tr>\n",
              "      <th>2</th>\n",
              "      <td>a2</td>\n",
              "      <td>b2</td>\n",
              "      <td>c2</td>\n",
              "      <td>a2</td>\n",
              "      <td>b2</td>\n",
              "      <td>c2</td>\n",
              "      <td>d2</td>\n",
              "    </tr>\n",
              "    <tr>\n",
              "      <th>3</th>\n",
              "      <td>a3</td>\n",
              "      <td>b3</td>\n",
              "      <td>c3</td>\n",
              "      <td>a3</td>\n",
              "      <td>b3</td>\n",
              "      <td>c3</td>\n",
              "      <td>d3</td>\n",
              "    </tr>\n",
              "  </tbody>\n",
              "</table>\n",
              "</div>\n",
              "      <button class=\"colab-df-convert\" onclick=\"convertToInteractive('df-477e0724-65b3-477b-9ed5-778ec3c205b2')\"\n",
              "              title=\"Convert this dataframe to an interactive table.\"\n",
              "              style=\"display:none;\">\n",
              "        \n",
              "  <svg xmlns=\"http://www.w3.org/2000/svg\" height=\"24px\"viewBox=\"0 0 24 24\"\n",
              "       width=\"24px\">\n",
              "    <path d=\"M0 0h24v24H0V0z\" fill=\"none\"/>\n",
              "    <path d=\"M18.56 5.44l.94 2.06.94-2.06 2.06-.94-2.06-.94-.94-2.06-.94 2.06-2.06.94zm-11 1L8.5 8.5l.94-2.06 2.06-.94-2.06-.94L8.5 2.5l-.94 2.06-2.06.94zm10 10l.94 2.06.94-2.06 2.06-.94-2.06-.94-.94-2.06-.94 2.06-2.06.94z\"/><path d=\"M17.41 7.96l-1.37-1.37c-.4-.4-.92-.59-1.43-.59-.52 0-1.04.2-1.43.59L10.3 9.45l-7.72 7.72c-.78.78-.78 2.05 0 2.83L4 21.41c.39.39.9.59 1.41.59.51 0 1.02-.2 1.41-.59l7.78-7.78 2.81-2.81c.8-.78.8-2.07 0-2.86zM5.41 20L4 18.59l7.72-7.72 1.47 1.35L5.41 20z\"/>\n",
              "  </svg>\n",
              "      </button>\n",
              "      \n",
              "  <style>\n",
              "    .colab-df-container {\n",
              "      display:flex;\n",
              "      flex-wrap:wrap;\n",
              "      gap: 12px;\n",
              "    }\n",
              "\n",
              "    .colab-df-convert {\n",
              "      background-color: #E8F0FE;\n",
              "      border: none;\n",
              "      border-radius: 50%;\n",
              "      cursor: pointer;\n",
              "      display: none;\n",
              "      fill: #1967D2;\n",
              "      height: 32px;\n",
              "      padding: 0 0 0 0;\n",
              "      width: 32px;\n",
              "    }\n",
              "\n",
              "    .colab-df-convert:hover {\n",
              "      background-color: #E2EBFA;\n",
              "      box-shadow: 0px 1px 2px rgba(60, 64, 67, 0.3), 0px 1px 3px 1px rgba(60, 64, 67, 0.15);\n",
              "      fill: #174EA6;\n",
              "    }\n",
              "\n",
              "    [theme=dark] .colab-df-convert {\n",
              "      background-color: #3B4455;\n",
              "      fill: #D2E3FC;\n",
              "    }\n",
              "\n",
              "    [theme=dark] .colab-df-convert:hover {\n",
              "      background-color: #434B5C;\n",
              "      box-shadow: 0px 1px 3px 1px rgba(0, 0, 0, 0.15);\n",
              "      filter: drop-shadow(0px 1px 2px rgba(0, 0, 0, 0.3));\n",
              "      fill: #FFFFFF;\n",
              "    }\n",
              "  </style>\n",
              "\n",
              "      <script>\n",
              "        const buttonEl =\n",
              "          document.querySelector('#df-477e0724-65b3-477b-9ed5-778ec3c205b2 button.colab-df-convert');\n",
              "        buttonEl.style.display =\n",
              "          google.colab.kernel.accessAllowed ? 'block' : 'none';\n",
              "\n",
              "        async function convertToInteractive(key) {\n",
              "          const element = document.querySelector('#df-477e0724-65b3-477b-9ed5-778ec3c205b2');\n",
              "          const dataTable =\n",
              "            await google.colab.kernel.invokeFunction('convertToInteractive',\n",
              "                                                     [key], {});\n",
              "          if (!dataTable) return;\n",
              "\n",
              "          const docLinkHtml = 'Like what you see? Visit the ' +\n",
              "            '<a target=\"_blank\" href=https://colab.research.google.com/notebooks/data_table.ipynb>data table notebook</a>'\n",
              "            + ' to learn more about interactive tables.';\n",
              "          element.innerHTML = '';\n",
              "          dataTable['output_type'] = 'display_data';\n",
              "          await google.colab.output.renderOutput(dataTable, element);\n",
              "          const docLink = document.createElement('div');\n",
              "          docLink.innerHTML = docLinkHtml;\n",
              "          element.appendChild(docLink);\n",
              "        }\n",
              "      </script>\n",
              "    </div>\n",
              "  </div>\n",
              "  "
            ]
          },
          "metadata": {},
          "execution_count": 32
        }
      ]
    },
    {
      "cell_type": "code",
      "source": [
        "## Merge\n",
        "import pandas as pd\n",
        "\n",
        "df1 = pd.DataFrame({'a':['a0','a1','a2','a3'],\n",
        "                   'b':['b0','b1','b2','b3'],\n",
        "                   'c':['c0','c1','c2','c3']},\n",
        "                  index = [0,1,2,3])\n",
        "\n",
        "df2 = pd.DataFrame({'a':['a2','a3','a4','a5'],\n",
        "                   'b':['b2','b3','b4','b5'],\n",
        "                   'c':['c2','c3','c4','c5'],\n",
        "                   'd':['d2','d3','d4','d5']},\n",
        "                   index = [2,3,4,5])\n",
        "print(df1, '\\n')\n",
        "print(df2)\n",
        "\n",
        "pd.merge(df1,df2,how='outer')"
      ],
      "metadata": {
        "id": "JEoRYHNMSiCT",
        "colab": {
          "base_uri": "https://localhost:8080/"
        },
        "outputId": "3edd6f14-5021-40ad-85fb-d7e20feb98ee"
      },
      "execution_count": 43,
      "outputs": [
        {
          "output_type": "stream",
          "name": "stdout",
          "text": [
            "    a   b   c\n",
            "0  a0  b0  c0\n",
            "1  a1  b1  c1\n",
            "2  a2  b2  c2\n",
            "3  a3  b3  c3 \n",
            "\n",
            "    a   b   c   d\n",
            "2  a2  b2  c2  d2\n",
            "3  a3  b3  c3  d3\n",
            "4  a4  b4  c4  d4\n",
            "5  a5  b5  c5  d5\n"
          ]
        }
      ]
    },
    {
      "cell_type": "code",
      "source": [
        "df3 = pd.DataFrame({'employee': ['Bob', 'Jake', 'Lisa', 'Sue'],\n",
        "                    'group': ['Accounting', 'Engineering', 'Engineering', 'HR']})\n",
        "df4 = pd.DataFrame({'employee': ['Lisa', 'Bob', 'Jake', 'Sue'],\n",
        "                    'hire_date': [2004, 2008, 2012, 2014]})\n",
        "\n",
        "print(df3)\n",
        "print(df4)\n",
        "print(pd.merge(df3,df4,on='employee'))"
      ],
      "metadata": {
        "colab": {
          "base_uri": "https://localhost:8080/"
        },
        "id": "cbputZWby64r",
        "outputId": "f39970ec-1a0f-4ff1-959d-bf9e7dac68c4"
      },
      "execution_count": 50,
      "outputs": [
        {
          "output_type": "stream",
          "name": "stdout",
          "text": [
            "  employee        group\n",
            "0      Bob   Accounting\n",
            "1     Jake  Engineering\n",
            "2     Lisa  Engineering\n",
            "3      Sue           HR\n",
            "  employee  hire_date\n",
            "0     Lisa       2004\n",
            "1      Bob       2008\n",
            "2     Jake       2012\n",
            "3      Sue       2014\n",
            "  employee        group  hire_date\n",
            "0      Bob   Accounting       2008\n",
            "1     Jake  Engineering       2012\n",
            "2     Lisa  Engineering       2004\n",
            "3      Sue           HR       2014\n"
          ]
        }
      ]
    },
    {
      "cell_type": "code",
      "source": [
        "# Join\n",
        "import pandas as pd\n",
        "\n",
        "df1 = pd.DataFrame({'a':['a0','a1','a2','a3'],\n",
        "                   'b':['b0','b1','b2','b3'],\n",
        "                   'c':['c0','c1','c2','c3']},\n",
        "                  index = [0,1,2,3])\n",
        "\n",
        "df2 = pd.DataFrame({'a':['a2','a3','a4','a5'],\n",
        "                   'b':['b2','b3','b4','b5'],\n",
        "                   'c':['c2','c3','c4','c5'],\n",
        "                   'd':['d2','d3','d4','d5']},\n",
        "                   index = [2,3,4,5])\n",
        "\n",
        "df3 = pd.DataFrame({'employee': ['Bob', 'Jake', 'Lisa', 'Sue'],\n",
        "                    'group': ['Accounting', 'Engineering', 'Engineering', 'HR']})\n",
        "df4 = pd.DataFrame({'employee': ['Lisa', 'Bob', 'Jake', 'Sue'],\n",
        "                    'hire_date': [2004, 2008, 2012, 2014]})\n",
        "\n",
        "print(df1, '\\n')\n",
        "print(df2)"
      ],
      "metadata": {
        "colab": {
          "base_uri": "https://localhost:8080/"
        },
        "id": "5sL10qF4s_I8",
        "outputId": "67555662-a7e1-4732-cd7a-8d3b5dc844b1"
      },
      "execution_count": 51,
      "outputs": [
        {
          "output_type": "stream",
          "name": "stdout",
          "text": [
            "    a   b   c\n",
            "0  a0  b0  c0\n",
            "1  a1  b1  c1\n",
            "2  a2  b2  c2\n",
            "3  a3  b3  c3 \n",
            "\n",
            "    a   b   c   d\n",
            "2  a2  b2  c2  d2\n",
            "3  a3  b3  c3  d3\n",
            "4  a4  b4  c4  d4\n",
            "5  a5  b5  c5  d5\n"
          ]
        }
      ]
    },
    {
      "cell_type": "code",
      "source": [
        "df3 = df3.set_index('employee')"
      ],
      "metadata": {
        "id": "7wj4mvR30Iir"
      },
      "execution_count": null,
      "outputs": []
    },
    {
      "cell_type": "code",
      "source": [
        "df4 = df4.set_index('employee')"
      ],
      "metadata": {
        "id": "9tf0ZiMb0aFJ"
      },
      "execution_count": 58,
      "outputs": []
    },
    {
      "cell_type": "code",
      "source": [
        "df3.join(df4)"
      ],
      "metadata": {
        "colab": {
          "base_uri": "https://localhost:8080/",
          "height": 206
        },
        "id": "GRP3BXxK0a0X",
        "outputId": "44d09dbb-590a-47c0-f36e-ea6b2fcb202e"
      },
      "execution_count": 61,
      "outputs": [
        {
          "output_type": "execute_result",
          "data": {
            "text/plain": [
              "                group  hire_date\n",
              "employee                        \n",
              "Bob        Accounting       2008\n",
              "Jake      Engineering       2012\n",
              "Lisa      Engineering       2004\n",
              "Sue                HR       2014"
            ],
            "text/html": [
              "\n",
              "  <div id=\"df-ebdb3c1d-7a42-402b-88f2-f4aa7236de8d\">\n",
              "    <div class=\"colab-df-container\">\n",
              "      <div>\n",
              "<style scoped>\n",
              "    .dataframe tbody tr th:only-of-type {\n",
              "        vertical-align: middle;\n",
              "    }\n",
              "\n",
              "    .dataframe tbody tr th {\n",
              "        vertical-align: top;\n",
              "    }\n",
              "\n",
              "    .dataframe thead th {\n",
              "        text-align: right;\n",
              "    }\n",
              "</style>\n",
              "<table border=\"1\" class=\"dataframe\">\n",
              "  <thead>\n",
              "    <tr style=\"text-align: right;\">\n",
              "      <th></th>\n",
              "      <th>group</th>\n",
              "      <th>hire_date</th>\n",
              "    </tr>\n",
              "    <tr>\n",
              "      <th>employee</th>\n",
              "      <th></th>\n",
              "      <th></th>\n",
              "    </tr>\n",
              "  </thead>\n",
              "  <tbody>\n",
              "    <tr>\n",
              "      <th>Bob</th>\n",
              "      <td>Accounting</td>\n",
              "      <td>2008</td>\n",
              "    </tr>\n",
              "    <tr>\n",
              "      <th>Jake</th>\n",
              "      <td>Engineering</td>\n",
              "      <td>2012</td>\n",
              "    </tr>\n",
              "    <tr>\n",
              "      <th>Lisa</th>\n",
              "      <td>Engineering</td>\n",
              "      <td>2004</td>\n",
              "    </tr>\n",
              "    <tr>\n",
              "      <th>Sue</th>\n",
              "      <td>HR</td>\n",
              "      <td>2014</td>\n",
              "    </tr>\n",
              "  </tbody>\n",
              "</table>\n",
              "</div>\n",
              "      <button class=\"colab-df-convert\" onclick=\"convertToInteractive('df-ebdb3c1d-7a42-402b-88f2-f4aa7236de8d')\"\n",
              "              title=\"Convert this dataframe to an interactive table.\"\n",
              "              style=\"display:none;\">\n",
              "        \n",
              "  <svg xmlns=\"http://www.w3.org/2000/svg\" height=\"24px\"viewBox=\"0 0 24 24\"\n",
              "       width=\"24px\">\n",
              "    <path d=\"M0 0h24v24H0V0z\" fill=\"none\"/>\n",
              "    <path d=\"M18.56 5.44l.94 2.06.94-2.06 2.06-.94-2.06-.94-.94-2.06-.94 2.06-2.06.94zm-11 1L8.5 8.5l.94-2.06 2.06-.94-2.06-.94L8.5 2.5l-.94 2.06-2.06.94zm10 10l.94 2.06.94-2.06 2.06-.94-2.06-.94-.94-2.06-.94 2.06-2.06.94z\"/><path d=\"M17.41 7.96l-1.37-1.37c-.4-.4-.92-.59-1.43-.59-.52 0-1.04.2-1.43.59L10.3 9.45l-7.72 7.72c-.78.78-.78 2.05 0 2.83L4 21.41c.39.39.9.59 1.41.59.51 0 1.02-.2 1.41-.59l7.78-7.78 2.81-2.81c.8-.78.8-2.07 0-2.86zM5.41 20L4 18.59l7.72-7.72 1.47 1.35L5.41 20z\"/>\n",
              "  </svg>\n",
              "      </button>\n",
              "      \n",
              "  <style>\n",
              "    .colab-df-container {\n",
              "      display:flex;\n",
              "      flex-wrap:wrap;\n",
              "      gap: 12px;\n",
              "    }\n",
              "\n",
              "    .colab-df-convert {\n",
              "      background-color: #E8F0FE;\n",
              "      border: none;\n",
              "      border-radius: 50%;\n",
              "      cursor: pointer;\n",
              "      display: none;\n",
              "      fill: #1967D2;\n",
              "      height: 32px;\n",
              "      padding: 0 0 0 0;\n",
              "      width: 32px;\n",
              "    }\n",
              "\n",
              "    .colab-df-convert:hover {\n",
              "      background-color: #E2EBFA;\n",
              "      box-shadow: 0px 1px 2px rgba(60, 64, 67, 0.3), 0px 1px 3px 1px rgba(60, 64, 67, 0.15);\n",
              "      fill: #174EA6;\n",
              "    }\n",
              "\n",
              "    [theme=dark] .colab-df-convert {\n",
              "      background-color: #3B4455;\n",
              "      fill: #D2E3FC;\n",
              "    }\n",
              "\n",
              "    [theme=dark] .colab-df-convert:hover {\n",
              "      background-color: #434B5C;\n",
              "      box-shadow: 0px 1px 3px 1px rgba(0, 0, 0, 0.15);\n",
              "      filter: drop-shadow(0px 1px 2px rgba(0, 0, 0, 0.3));\n",
              "      fill: #FFFFFF;\n",
              "    }\n",
              "  </style>\n",
              "\n",
              "      <script>\n",
              "        const buttonEl =\n",
              "          document.querySelector('#df-ebdb3c1d-7a42-402b-88f2-f4aa7236de8d button.colab-df-convert');\n",
              "        buttonEl.style.display =\n",
              "          google.colab.kernel.accessAllowed ? 'block' : 'none';\n",
              "\n",
              "        async function convertToInteractive(key) {\n",
              "          const element = document.querySelector('#df-ebdb3c1d-7a42-402b-88f2-f4aa7236de8d');\n",
              "          const dataTable =\n",
              "            await google.colab.kernel.invokeFunction('convertToInteractive',\n",
              "                                                     [key], {});\n",
              "          if (!dataTable) return;\n",
              "\n",
              "          const docLinkHtml = 'Like what you see? Visit the ' +\n",
              "            '<a target=\"_blank\" href=https://colab.research.google.com/notebooks/data_table.ipynb>data table notebook</a>'\n",
              "            + ' to learn more about interactive tables.';\n",
              "          element.innerHTML = '';\n",
              "          dataTable['output_type'] = 'display_data';\n",
              "          await google.colab.output.renderOutput(dataTable, element);\n",
              "          const docLink = document.createElement('div');\n",
              "          docLink.innerHTML = docLinkHtml;\n",
              "          element.appendChild(docLink);\n",
              "        }\n",
              "      </script>\n",
              "    </div>\n",
              "  </div>\n",
              "  "
            ]
          },
          "metadata": {},
          "execution_count": 61
        }
      ]
    },
    {
      "cell_type": "code",
      "source": [
        "## Glob 사용법\n",
        "# 1. 파일 디렉토리 확인 /content/sample_data/\n",
        "# 2. 이름을 가져오고 싶은 파일의 확장자 확인 .csv\n",
        "from glob import glob\n",
        "glob('/content/sample_data/*.csv')"
      ],
      "metadata": {
        "id": "nmmI8N62SsPb",
        "colab": {
          "base_uri": "https://localhost:8080/"
        },
        "outputId": "b0945c2b-b235-427d-d0e3-51a96de5dc8b"
      },
      "execution_count": 68,
      "outputs": [
        {
          "output_type": "execute_result",
          "data": {
            "text/plain": [
              "['/content/sample_data/mnist_train_small.csv',\n",
              " '/content/sample_data/california_housing_test.csv',\n",
              " '/content/sample_data/mnist_test.csv',\n",
              " '/content/sample_data/california_housing_train.csv']"
            ]
          },
          "metadata": {},
          "execution_count": 68
        }
      ]
    },
    {
      "cell_type": "code",
      "source": [
        "## 병렬 처리 - Pool\n",
        "import time, os\n",
        "\n",
        "def work_func(x):\n",
        "    print(\"value %s is in PID : %s\" % (x, os.getpid()))\n",
        "    time.sleep(1)\n",
        "    return x**5\n",
        "\n",
        "def main():\n",
        "    start = int(time.time())\n",
        "    print(list(map(work_func, range(0,12))))\n",
        "    print(\"***run time(sec) :\", int(time.time()) - start)\n"
      ],
      "metadata": {
        "id": "NGz4nlzyStMr"
      },
      "execution_count": null,
      "outputs": []
    },
    {
      "cell_type": "code",
      "source": [
        "import multiprocessing as mp\n",
        "mp.cpu_count()"
      ],
      "metadata": {
        "id": "8Axw8c_ETDrH"
      },
      "execution_count": null,
      "outputs": []
    },
    {
      "cell_type": "code",
      "source": [
        "import time, os\n",
        "import numpy as np\n",
        "import pandas as pd\n",
        "from multiprocessing import Pool\n",
        "\n",
        "def work_func(data):\n",
        "    print('PID :', os.getpid())\n",
        "    data['length_str'] = data['Name'].apply(lambda x : len(x))\n",
        "    return data\n",
        "\n",
        "def parallel_dataframe(df, func, num_cores):\n",
        "    df_split = np.array_split(df, num_cores)\n",
        "    pool = Pool(num_cores)\n",
        "    df = pd.concat(pool.map(func, df_split))\n",
        "    pool.close()\n",
        "    pool.join()\n",
        "    return df\n",
        "\n",
        "def main():\n",
        "    start = int(time.time())\n",
        "    my_dir = r\"D:\\Python\\kaggle\\titanic\\\\\"\n",
        "    df = pd.read_csv(my_dir + \"train.csv\", dtype=str)\n",
        "    num_cores = 4\n",
        "    df = parallel_dataframe(df,work_func, num_cores)\n",
        "    print(\"***run time(sec) :\", int(time.time()) - start)\n",
        "\n",
        "if __name__ == \"__main__\":\n",
        "    main()"
      ],
      "metadata": {
        "id": "16O3jNYYS85k"
      },
      "execution_count": null,
      "outputs": []
    },
    {
      "cell_type": "code",
      "source": [
        "# parallelize_test.py\n",
        "\n",
        "import time, os\n",
        "from multiprocessing import Process\n",
        "\n",
        "def work_func(x):\n",
        "    print(\"value %s is in PID : %s\" % (x, os.getpid()))\n",
        "    return x**5\n",
        "\n",
        "def main():\n",
        "    start = int(time.time())\n",
        "    procs = []\n",
        "    for num in range(1,10):\n",
        "        proc = Process(target=work_func, args=(num,))\n",
        "        procs.append(proc)\n",
        "        proc.start()\n",
        "\n",
        "    for proc in procs:\n",
        "        proc.join()\n",
        "    print(\"***run time(sec) :\", int(time.time()) - start)\n",
        "\n",
        "if __name__ == \"__main__\":\n",
        "    main()"
      ],
      "metadata": {
        "id": "wAc126e7TJrX"
      },
      "execution_count": null,
      "outputs": []
    },
    {
      "cell_type": "code",
      "source": [
        "## String Handling\n",
        "## Startwith\n",
        "import seaborn as sns\n",
        "titanic = pd.read_csv('train.csv')\n",
        "\n",
        "titanic.head()\n",
        "titanic.dropna(inplace=True)\n",
        "\n",
        "# .str\n",
        "\n",
        "# String Column에 대한 Indexing\n",
        "titanic['Cabin'].str[:1]\n",
        "\n",
        "# String Column에 대한 Split\n",
        "titanic['Name'].str.split(',',expand=True)\n",
        "\n",
        "# startwith, endwith\n",
        "titanic['Cabin'].str.startswith('C') # T & F\n",
        "\n",
        "# find, rfind\n",
        "titanic['Sex'].str.find('fe') # index"
      ],
      "metadata": {
        "id": "1xQV0EFHS2Ig"
      },
      "execution_count": null,
      "outputs": []
    },
    {
      "cell_type": "code",
      "source": [
        "names = titanic['Name'].str.split(',',expand=True)\n",
        "names.columns = ['First_Name','Second_Name']\n",
        "\n",
        "titanic = pd.concat([titanic, names],axis=1)"
      ],
      "metadata": {
        "id": "RwDIWNxY6wRk"
      },
      "execution_count": null,
      "outputs": []
    },
    {
      "cell_type": "code",
      "source": [
        "## Reshape\n",
        "import numpy as np\n",
        "\n",
        "a = np.array([1,2,3,4,5,6,7,8])\n",
        "print(a)\n",
        "b = np.reshape(a,(2,4))\n",
        "print(b)\n",
        "c = np.reshape(a,(4,2))\n",
        "print(c)\n",
        "\n",
        "d = a.reshape(-1,1)\n",
        "print(d)\n",
        "\n",
        "print(b.reshape(-1))"
      ],
      "metadata": {
        "id": "ctTLnhIbTQt7",
        "colab": {
          "base_uri": "https://localhost:8080/"
        },
        "outputId": "21535213-19fa-4112-fe62-0ec8fa1b1a26"
      },
      "execution_count": 110,
      "outputs": [
        {
          "output_type": "stream",
          "name": "stdout",
          "text": [
            "[1 2 3 4 5 6 7 8]\n",
            "[[1 2 3 4]\n",
            " [5 6 7 8]]\n",
            "[[1 2]\n",
            " [3 4]\n",
            " [5 6]\n",
            " [7 8]]\n",
            "[[1]\n",
            " [2]\n",
            " [3]\n",
            " [4]\n",
            " [5]\n",
            " [6]\n",
            " [7]\n",
            " [8]]\n",
            "[1 2 3 4 5 6 7 8]\n"
          ]
        }
      ]
    },
    {
      "cell_type": "code",
      "source": [
        "## Basic EDA : Exploratory Data Analysis 탐색적 데이터 분석\n",
        "\n",
        "# head & tail\n",
        "titanic.head(10)\n",
        "titanic.tail(10)\n",
        "\n",
        "# shape\n",
        "titanic.shape\n",
        "\n",
        "# info\n",
        "titanic.info()\n",
        "\n",
        "# dtypes\n",
        "titanic.dtypes\n",
        "\n",
        "# describe()\n",
        "titanic.describe()\n",
        "\n",
        "# count(), value_counts()\n",
        "titanic.count()\n",
        "print(titanic.Sex.value_counts())\n",
        "\n",
        "# 통계적인 값들\n",
        ".sum() .mean() .median() .mode() min() max() corr()"
      ],
      "metadata": {
        "id": "QeJiEd1dTZ9X",
        "colab": {
          "base_uri": "https://localhost:8080/"
        },
        "outputId": "8b3c6926-3835-48ff-a081-195fbcc45da1"
      },
      "execution_count": 122,
      "outputs": [
        {
          "output_type": "stream",
          "name": "stdout",
          "text": [
            "<class 'pandas.core.frame.DataFrame'>\n",
            "Int64Index: 183 entries, 1 to 889\n",
            "Data columns (total 12 columns):\n",
            " #   Column       Non-Null Count  Dtype  \n",
            "---  ------       --------------  -----  \n",
            " 0   PassengerId  183 non-null    int64  \n",
            " 1   Survived     183 non-null    int64  \n",
            " 2   Pclass       183 non-null    int64  \n",
            " 3   Name         183 non-null    object \n",
            " 4   Sex          183 non-null    object \n",
            " 5   Age          183 non-null    float64\n",
            " 6   SibSp        183 non-null    int64  \n",
            " 7   Parch        183 non-null    int64  \n",
            " 8   Ticket       183 non-null    object \n",
            " 9   Fare         183 non-null    float64\n",
            " 10  Cabin        183 non-null    object \n",
            " 11  Embarked     183 non-null    object \n",
            "dtypes: float64(2), int64(5), object(5)\n",
            "memory usage: 18.6+ KB\n",
            "male      95\n",
            "female    88\n",
            "Name: Sex, dtype: int64\n"
          ]
        }
      ]
    },
    {
      "cell_type": "code",
      "source": [],
      "metadata": {
        "id": "89HQPyGh-D7V"
      },
      "execution_count": null,
      "outputs": []
    }
  ]
}